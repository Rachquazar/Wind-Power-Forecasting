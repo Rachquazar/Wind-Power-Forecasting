{
 "cells": [
  {
   "cell_type": "markdown",
   "metadata": {},
   "source": [
    "# Predicting Wind Turbine Output with a Random Forest\n",
    "\n",
    "In this analysis, the shape of the data frame is taken directly from the original data file: each record contains measurements from a single zone, even though the power output from the wind turbine in that zone is correlated with wind velocity measurements in other zones.\n",
    "\n",
    "1. [Imports.](#Cell1)\n",
    "1. [Data preprocessing function for training and testing data sets.](#Cell2)\n",
    "1. [Preprocess training data set and split it into training and testing subsets.](#Cell3)\n",
    "1. [Fit random forest model to training subset of training data set.](#Cell4)\n",
    "1. [Do a grid search to find optimal hyper-parameters of the random forest regressor.](#Cell5)\n",
    "1. [Retrieve trained model from disk. Only run this cell if previous one wasn't run.](#Cell6)\n",
    "1. [Evaluate fit results, histogram feature importances and predicted and actual turbine output.](#Cell7)\n",
    "1. [Fit random forest model to entire training data set.](#Cell8)\n",
    "1. [Retrieve trained model from disk. Only run this cell if previous one wasn't run.](#Cell8b)\n",
    "1. [Prepare test data set in the same way as the training set, make predictions, and create output csv file.](#Cell9)\n",
    "1. [Make a plot of weekly RMSE over training and testing data sets combined.](#Cell10)"
   ]
  },
  {
   "cell_type": "code",
   "execution_count": null,
   "metadata": {},
   "outputs": [],
   "source": []
  },
  {
   "cell_type": "markdown",
   "metadata": {},
   "source": [
    "<a id='Cell1'></a>"
   ]
  },
  {
   "cell_type": "code",
   "execution_count": 1,
   "metadata": {},
   "outputs": [],
   "source": [
    "'''\n",
    "Imports\n",
    "'''\n",
    "import numpy as np\n",
    "import pandas as pd\n",
    "import matplotlib.pyplot as plt\n",
    "from sklearn.model_selection import train_test_split, GridSearchCV\n",
    "from sklearn.metrics import mean_squared_error, r2_score\n",
    "from sklearn.ensemble import RandomForestRegressor\n",
    "from sklearn.externals import joblib\n",
    "import csv\n",
    "import datetime\n",
    "from time import strftime\n",
    "\n",
    "%matplotlib inline"
   ]
  },
  {
   "cell_type": "markdown",
   "metadata": {},
   "source": [
    "<a id='Cell2'></a>"
   ]
  },
  {
   "cell_type": "code",
   "execution_count": 2,
   "metadata": {},
   "outputs": [],
   "source": [
    "'''\n",
    "Data preprocessing function for training and testing data sets.\n",
    "'''\n",
    "\n",
    "def PreProcess(fname, Nroll=3):\n",
    "    '''\n",
    "    Read in wind turbine data and store them in a Pandas dataframe after cleanup.\n",
    "    The input csv file fname contains the following fields:\n",
    "\n",
    "    ID:         Unique ID for each observation\n",
    "    ZONEID:     Zone/Turbine ID, a number between 1 and 10\n",
    "    TIMESTAMP:  Time of observation, in the format \"YYYYMMDD h:mm\" or \"YYYYMMDD hh:mm\"\n",
    "    TARGETVAR:  Wind turbine output\n",
    "    U10:        Zonal Wind Vector at 10 m\n",
    "    V10:        Meridional Wind Vector at 10 m\n",
    "    U100:       Zonal Wind vector at 100 m\n",
    "    V100:       Meridional Wind vector at 100 m\n",
    "    '''\n",
    "    \n",
    "    # Read in the windmill data, parsing the third column as datetimes.\n",
    "    Train     = \"Train\" in fname or \"Solution\" in fname\n",
    "    df0       = pd.read_csv(fname, header=0, parse_dates=[2], index_col=2)\n",
    "    df0.fillna(0, inplace=True)\n",
    "    # Split data frame according to zone id\n",
    "    nturbines = 10\n",
    "    df1       = []\n",
    "    for iturbine in range(1,nturbines+1):\n",
    "        df1.append(df0.loc[df0[\"ZONEID\"]==iturbine,:])\n",
    "\n",
    "    # Compute rolling means of wind speed measurements\n",
    "    if Nroll>1:\n",
    "        window = str(Nroll)+\"H\"\n",
    "        print('PreProcess: Computing rolling means over {0}.'.format(window))\n",
    "        dname  = \"_rm\"+str(Nroll)\n",
    "        df1new = []\n",
    "        for df1t in df1:\n",
    "            df1t.loc[:,\"U10\"+dname]  = df1t[\"U10\"].rolling(window,  min_periods=1).mean()\n",
    "            df1t.loc[:,\"V10\"+dname]  = df1t[\"V10\"].rolling(window,  min_periods=1).mean()\n",
    "            df1t.loc[:,\"U100\"+dname] = df1t[\"U100\"].rolling(window, min_periods=1).mean()\n",
    "            df1t.loc[:,\"V100\"+dname] = df1t[\"V100\"].rolling(window, min_periods=1).mean()\n",
    "            df1u = df1t.drop([\"U10\", \"V10\", \"U100\", \"V100\"], axis=1)\n",
    "            df1new.append(df1u)\n",
    "        df2    = pd.concat(df1new)\n",
    "    else:\n",
    "        print('PreProcess: No rolling means computed')\n",
    "        df2    = pd.concat(df1)\n",
    "\n",
    "    # Put the timestamp index back as a dataframe column\n",
    "    df2              = df2.reset_index()\n",
    "\n",
    "    # Extract year, day of year, and hour from timestamp, then drop timestamp column\n",
    "    df2[\"Year\"]      = df2[\"TIMESTAMP\"].map(lambda x: x.year)\n",
    "    df2[\"DayOfYear\"] = df2[\"TIMESTAMP\"].map(lambda x: x.timetuple().tm_yday)\n",
    "    df2[\"Hour\"]      = df2[\"TIMESTAMP\"].map(lambda x: x.hour)\n",
    "    df2.drop('TIMESTAMP', axis=1, inplace=True)\n",
    "\n",
    "    # Rename columns\n",
    "    if Train:\n",
    "        df2.rename(columns={\"ID\": \"Id\", \"ZONEID\": \"ZoneId\", \"TARGETVAR\": \"Target\"}, inplace=True)\n",
    "    else:\n",
    "        df2.rename(columns={\"ID\": \"Id\", \"ZONEID\": \"ZoneId\"}, inplace=True)\n",
    "\n",
    "    # One-hot encode categorical variable ZoneId.\n",
    "    df2['ZoneId'] = df2['ZoneId'].astype(int).astype(\"category\")\n",
    "    df2           = pd.get_dummies(df2, drop_first=True)\n",
    "\n",
    "    print('PreProcess: Dataframe Shape = {0}'.format(df2.shape))\n",
    "    \n",
    "    return df2"
   ]
  },
  {
   "cell_type": "markdown",
   "metadata": {},
   "source": [
    "<a id='Cell3'></a>"
   ]
  },
  {
   "cell_type": "code",
   "execution_count": 3,
   "metadata": {
    "scrolled": false
   },
   "outputs": [
    {
     "name": "stdout",
     "output_type": "stream",
     "text": [
      "PreProcess: Computing rolling means over 3H.\n"
     ]
    },
    {
     "name": "stderr",
     "output_type": "stream",
     "text": [
      "/anaconda3/lib/python3.6/site-packages/pandas/core/indexing.py:357: SettingWithCopyWarning: \n",
      "A value is trying to be set on a copy of a slice from a DataFrame.\n",
      "Try using .loc[row_indexer,col_indexer] = value instead\n",
      "\n",
      "See the caveats in the documentation: http://pandas.pydata.org/pandas-docs/stable/indexing.html#indexing-view-versus-copy\n",
      "  self.obj[key] = _infer_fill_value(value)\n",
      "/anaconda3/lib/python3.6/site-packages/pandas/core/indexing.py:537: SettingWithCopyWarning: \n",
      "A value is trying to be set on a copy of a slice from a DataFrame.\n",
      "Try using .loc[row_indexer,col_indexer] = value instead\n",
      "\n",
      "See the caveats in the documentation: http://pandas.pydata.org/pandas-docs/stable/indexing.html#indexing-view-versus-copy\n",
      "  self.obj[item] = s\n"
     ]
    },
    {
     "name": "stdout",
     "output_type": "stream",
     "text": [
      "PreProcess: Dataframe Shape = (168000, 18)\n",
      "Size of data set for training: 126000, for testing: 42000\n",
      "\n"
     ]
    }
   ],
   "source": [
    "'''\n",
    "Preprocess training data set and split it into training and testing subsets.\n",
    "'''\n",
    "\n",
    "fname = \"Train_full.csv\"\n",
    "rwin  = 3\n",
    "df0   = PreProcess(fname, Nroll=rwin)\n",
    "\n",
    "# Convert pandas dataframe to its numpy representation, separating out features from target variable.\n",
    "features  = df0.columns.values.tolist()\n",
    "features.remove(\"Target\")\n",
    "features.remove(\"Id\")\n",
    "X         = df0.as_matrix(columns=features)\n",
    "y         = np.array(df0[\"Target\"].tolist())\n",
    "\n",
    "# Create training and test sets.\n",
    "X_train, X_test, y_train, y_test = train_test_split(X, y, test_size=0.25, random_state=0)\n",
    "print('Size of data set for training: {0}, for testing: {1}\\n'.format(len(y_train), len(y_test)))"
   ]
  },
  {
   "cell_type": "code",
   "execution_count": 6,
   "metadata": {},
   "outputs": [
    {
     "name": "stdout",
     "output_type": "stream",
     "text": [
      "<class 'pandas.core.frame.DataFrame'>\n",
      "RangeIndex: 168000 entries, 0 to 167999\n",
      "Data columns (total 18 columns):\n",
      "Id           168000 non-null int64\n",
      "Target       168000 non-null float64\n",
      "U10_rm3      168000 non-null float64\n",
      "V10_rm3      168000 non-null float64\n",
      "U100_rm3     168000 non-null float64\n",
      "V100_rm3     168000 non-null float64\n",
      "Year         168000 non-null int64\n",
      "DayOfYear    168000 non-null int64\n",
      "Hour         168000 non-null int64\n",
      "ZoneId_2     168000 non-null uint8\n",
      "ZoneId_3     168000 non-null uint8\n",
      "ZoneId_4     168000 non-null uint8\n",
      "ZoneId_5     168000 non-null uint8\n",
      "ZoneId_6     168000 non-null uint8\n",
      "ZoneId_7     168000 non-null uint8\n",
      "ZoneId_8     168000 non-null uint8\n",
      "ZoneId_9     168000 non-null uint8\n",
      "ZoneId_10    168000 non-null uint8\n",
      "dtypes: float64(5), int64(4), uint8(9)\n",
      "memory usage: 13.0 MB\n"
     ]
    }
   ],
   "source": [
    "df0.info()"
   ]
  },
  {
   "cell_type": "code",
   "execution_count": 7,
   "metadata": {},
   "outputs": [
    {
     "data": {
      "text/html": [
       "<div>\n",
       "<style scoped>\n",
       "    .dataframe tbody tr th:only-of-type {\n",
       "        vertical-align: middle;\n",
       "    }\n",
       "\n",
       "    .dataframe tbody tr th {\n",
       "        vertical-align: top;\n",
       "    }\n",
       "\n",
       "    .dataframe thead th {\n",
       "        text-align: right;\n",
       "    }\n",
       "</style>\n",
       "<table border=\"1\" class=\"dataframe\">\n",
       "  <thead>\n",
       "    <tr style=\"text-align: right;\">\n",
       "      <th></th>\n",
       "      <th>Id</th>\n",
       "      <th>Target</th>\n",
       "      <th>U10_rm3</th>\n",
       "      <th>V10_rm3</th>\n",
       "      <th>U100_rm3</th>\n",
       "      <th>V100_rm3</th>\n",
       "      <th>Year</th>\n",
       "      <th>DayOfYear</th>\n",
       "      <th>Hour</th>\n",
       "      <th>ZoneId_2</th>\n",
       "      <th>ZoneId_3</th>\n",
       "      <th>ZoneId_4</th>\n",
       "      <th>ZoneId_5</th>\n",
       "      <th>ZoneId_6</th>\n",
       "      <th>ZoneId_7</th>\n",
       "      <th>ZoneId_8</th>\n",
       "      <th>ZoneId_9</th>\n",
       "      <th>ZoneId_10</th>\n",
       "    </tr>\n",
       "  </thead>\n",
       "  <tbody>\n",
       "  </tbody>\n",
       "</table>\n",
       "</div>"
      ],
      "text/plain": [
       "Empty DataFrame\n",
       "Columns: [Id, Target, U10_rm3, V10_rm3, U100_rm3, V100_rm3, Year, DayOfYear, Hour, ZoneId_2, ZoneId_3, ZoneId_4, ZoneId_5, ZoneId_6, ZoneId_7, ZoneId_8, ZoneId_9, ZoneId_10]\n",
       "Index: []"
      ]
     },
     "execution_count": 7,
     "metadata": {},
     "output_type": "execute_result"
    }
   ],
   "source": [
    "df0[df0['U10_rm3'].isnull()]"
   ]
  },
  {
   "cell_type": "markdown",
   "metadata": {},
   "source": [
    "<a id='Cell4'></a>"
   ]
  },
  {
   "cell_type": "code",
   "execution_count": 4,
   "metadata": {},
   "outputs": [
    {
     "name": "stdout",
     "output_type": "stream",
     "text": [
      "CPU times: user 12min 40s, sys: 7.25 s, total: 12min 47s\n",
      "Wall time: 3min 21s\n"
     ]
    },
    {
     "data": {
      "text/plain": [
       "RandomForestRegressor(bootstrap=True, criterion='mse', max_depth=40,\n",
       "           max_features='sqrt', max_leaf_nodes=None,\n",
       "           min_impurity_decrease=0.0, min_impurity_split=None,\n",
       "           min_samples_leaf=3, min_samples_split=2,\n",
       "           min_weight_fraction_leaf=0.0, n_estimators=2000, n_jobs=-1,\n",
       "           oob_score=False, random_state=0, verbose=0, warm_start=False)"
      ]
     },
     "execution_count": 4,
     "metadata": {},
     "output_type": "execute_result"
    }
   ],
   "source": [
    "'''\n",
    "Fit random forest model to training subset of training data set.\n",
    "'''\n",
    "\n",
    "rfr_train = RandomForestRegressor(n_estimators=2000, criterion=\"mse\", max_depth=40, min_samples_split=2, \n",
    "                                  min_samples_leaf=3, max_features=\"sqrt\", max_leaf_nodes=None, bootstrap=True,\n",
    "                                  oob_score=False, n_jobs=-1, random_state=0, verbose=0)\n",
    "%time rfr_train.fit(X_train, y_train)"
   ]
  },
  {
   "cell_type": "code",
   "execution_count": 8,
   "metadata": {
    "scrolled": true
   },
   "outputs": [
    {
     "name": "stdout",
     "output_type": "stream",
     "text": [
      "CPU times: user 34min 15s, sys: 21.8 s, total: 34min 37s\n",
      "Wall time: 9min 12s\n"
     ]
    },
    {
     "data": {
      "text/plain": [
       "RandomForestRegressor(bootstrap=True, criterion='mse', max_depth=40,\n",
       "           max_features='sqrt', max_leaf_nodes=None,\n",
       "           min_impurity_decrease=0.0, min_impurity_split=None,\n",
       "           min_samples_leaf=3, min_samples_split=2,\n",
       "           min_weight_fraction_leaf=0.0, n_estimators=4000, n_jobs=-1,\n",
       "           oob_score=False, random_state=0, verbose=0, warm_start=False)"
      ]
     },
     "execution_count": 8,
     "metadata": {},
     "output_type": "execute_result"
    }
   ],
   "source": [
    "rfrb = RandomForestRegressor(bootstrap=True, criterion='mse', max_depth=40,\n",
    "           max_features='sqrt', max_leaf_nodes=None,\n",
    "            min_samples_leaf=3,\n",
    "           min_samples_split=2, min_weight_fraction_leaf=0.0,\n",
    "           n_estimators=4000, n_jobs=-1, oob_score=False, random_state=0,\n",
    "           verbose=0, warm_start=False)\n",
    "%time rfrb.fit(X_train, y_train)"
   ]
  },
  {
   "cell_type": "markdown",
   "metadata": {},
   "source": [
    "<a id='Cell5'></a>"
   ]
  },
  {
   "cell_type": "code",
   "execution_count": null,
   "metadata": {
    "scrolled": false
   },
   "outputs": [],
   "source": [
    "'''\n",
    "Do a grid search to find optimal hyper-parameters of the random forest regressor.\n",
    "Use Root Mean Squared Error (RMSE) to score parameter choices.\n",
    "\n",
    "(This cell can be omitted if the previous one was run.)\n",
    "'''\n",
    "\n",
    "# Specify the parameter grid to be searched\n",
    "parameter_grid = [{'n_estimators': [1000, 2000, 3000], \n",
    "                   'max_depth': [30, 40, 50], \n",
    "                   'min_samples_leaf': [3, 5, 7]}]\n",
    "\n",
    "# Start the grid search\n",
    "rfo = GridSearchCV(RandomForestRegressor(criterion='mse', min_samples_split=2, max_features=\"sqrt\",\n",
    "                                         max_leaf_nodes=None, bootstrap=True, oob_score=False, \n",
    "                                         n_jobs=-1, random_state=0, verbose=0),\n",
    "                   parameter_grid, refit=True, cv=5, scoring='neg_mean_squared_error')\n",
    "%time rfo.fit(X_train, y_train)\n",
    "\n",
    "# Print out the results (flipping the sign on the grid scores to make them positive again).\n",
    "print(\"Best parameter values found on development set:\")\n",
    "print(\" \")\n",
    "print(rfo.best_params_)\n",
    "print(\" \")\n",
    "print(\"Grid scores on development set:\")\n",
    "print(\" \")\n",
    "for mean_score, std_score, settings in zip(rfo.cv_results_['mean_test_score'], \n",
    "                                           rfo.cv_results_['std_test_score'],\n",
    "                                           rfo.cv_results_['params']):\n",
    "    print(\"%0.5f (+/-%0.05f) for %r\" %(-mean_score, 2*std_score, settings))\n",
    "\n",
    "# Retrieve best random forest model from grid search\n",
    "rfr_train = rfo.best_estimator_\n",
    "print(\"\\nBest estimator:\\n%s\" %rfr_train)\n",
    "\n",
    "fName = 'rfr_train_' + strftime(\"%Y_%m_%d_%H_%M_%S\")\n",
    "path_to_file = 'fitted_models/'+fName+'.model'\n",
    "joblib.dump(rfr_train, path_to_file)\n",
    "print('\\nRandom forest regression model saved to {0}'.format(path_to_file))"
   ]
  },
  {
   "cell_type": "markdown",
   "metadata": {},
   "source": [
    "<a id='Cell6'></a>"
   ]
  },
  {
   "cell_type": "code",
   "execution_count": 5,
   "metadata": {
    "collapsed": true
   },
   "outputs": [
    {
     "name": "stdout",
     "output_type": "stream",
     "text": [
      "Regression model successfully loaded from fitted_models/rfr_train_2017_04_22_04_27_55.model\n",
      "\n",
      "Estimator:\n",
      "\n",
      "RandomForestRegressor(bootstrap=True, criterion='mse', max_depth=50,\n",
      "           max_features='sqrt', max_leaf_nodes=None,\n",
      "           min_impurity_split=1e-07, min_samples_leaf=3,\n",
      "           min_samples_split=2, min_weight_fraction_leaf=0.0,\n",
      "           n_estimators=3000, n_jobs=-1, oob_score=False, random_state=0,\n",
      "           verbose=0, warm_start=False)\n",
      "\n"
     ]
    }
   ],
   "source": [
    "'''\n",
    "Retrieve trained model from disk. Only run this cell if previous one wasn't run.\n",
    "Note that by default the file name encodes a date and time, to the second.\n",
    "'''\n",
    "\n",
    "rfr_found = True\n",
    "\n",
    "try:\n",
    "    rfrb\n",
    "except:\n",
    "    fName        = 'rfr_train_2017_04_22_04_27_55'\n",
    "#    fName        = 'rfr_train_2017_04_07_00_31_00'\n",
    "    path_to_file = 'fitted_models/'+fName+'.model'\n",
    "    try:\n",
    "        rfr_train = joblib.load(path_to_file)\n",
    "    except:\n",
    "        print('Error loading regression model from {0}\\n'.format(path_to_file))\n",
    "        rfr_found = False\n",
    "    else:\n",
    "        print('Regression model successfully loaded from {0}\\n'.format(path_to_file))    \n",
    "else:    \n",
    "    print('Fitted model already exists, not updated from file!\\n')\n",
    "\n",
    "if rfr_found:\n",
    "    print(\"Estimator:\\n\\n%s\\n\" %rfr_best)"
   ]
  },
  {
   "cell_type": "markdown",
   "metadata": {},
   "source": [
    "<a id='Cell7'></a>"
   ]
  },
  {
   "cell_type": "code",
   "execution_count": 9,
   "metadata": {},
   "outputs": [
    {
     "name": "stdout",
     "output_type": "stream",
     "text": [
      "\n",
      "RMSE on train data set: 0.09306089564648702\n",
      "RMSE on test data set:  0.13904669677084652\n"
     ]
    }
   ],
   "source": [
    "'''\n",
    "Evaluate fit results.\n",
    "'''\n",
    "\n",
    "# Plot feature importances, sorted in decreasing order\n",
    "#importances = rfr_train.feature_importances_\n",
    "#indices     = np.argsort(importances)[::-1]\n",
    "#n_features  = indices.size\n",
    "#bins        = np.arange(n_features)\n",
    "#x_labels    = np.array(features)[indices][:n_features]\n",
    "#maxHeight   = 1.10*max(importances)\n",
    "#fig, axes   = plt.subplots(nrows=1, ncols=1, figsize=(15, 5))\n",
    "#axes.bar(bins, importances[indices][:n_features], align=\"center\", color=\"lightblue\", edgecolor=\"k\", alpha=0.5)\n",
    "#axes.set_xlabel(\"Feature\", fontsize=15)\n",
    "#axes.set_xticks(bins)\n",
    "#axes.set_xticklabels(x_labels, ha=\"right\", rotation=45., fontsize=15)\n",
    "#axes.set_xlim([-0.5,bins.size-0.5])\n",
    "#axes.set_ylabel(\"Importance\", fontsize=15)\n",
    "#axes.set_ylim([0.0, maxHeight])\n",
    "#rfr_parameters = rfr_train.get_params()\n",
    "#mx_dpth = rfr_parameters['max_depth']\n",
    "#mn_s_lf = rfr_parameters['min_samples_leaf']\n",
    "#n_trees = rfr_parameters['n_estimators']\n",
    "#axes.text(0.45, 0.92, \n",
    "#          'Max. depth: {0}, Min. samples/leaf: {1}, Number of trees: {2}'.format(mx_dpth,mn_s_lf,n_trees),\n",
    "#          fontsize=15, transform=axes.transAxes)\n",
    "#plt.show()\n",
    "#fig.savefig('rfr16_feature_importances.png', dpi=200, bbox_inches='tight')\n",
    "\n",
    "# Compute root mean squared errors on train and test sets.\n",
    "y_train_pred = rfrb.predict(X_train)\n",
    "y_test_pred  = rfrb.predict(X_test)\n",
    "rmse_train   = np.sqrt(mean_squared_error(y_train, y_train_pred))\n",
    "rmse_test    = np.sqrt(mean_squared_error(y_test, y_test_pred))\n",
    "print('\\nRMSE on train data set: {0}'.format(rmse_train))\n",
    "print('RMSE on test data set:  {0}'.format(rmse_test))"
   ]
  },
  {
   "cell_type": "code",
   "execution_count": 10,
   "metadata": {},
   "outputs": [
    {
     "name": "stdout",
     "output_type": "stream",
     "text": [
      "\n",
      "MAE on train data set: 0.06483154672343179\n",
      "MAE on test data set:  0.09875146895768679\n"
     ]
    }
   ],
   "source": [
    "from sklearn.metrics import mean_absolute_error\n",
    "mae_train = mean_absolute_error(y_train, y_train_pred)\n",
    "mae_test = mean_absolute_error(y_test, y_test_pred)\n",
    "print('\\nMAE on train data set: {0}'.format(mae_train))\n",
    "print('MAE on test data set:  {0}'.format(mae_test))"
   ]
  },
  {
   "cell_type": "code",
   "execution_count": 28,
   "metadata": {},
   "outputs": [
    {
     "data": {
      "image/png": "[encoded data removed]",
      "text/plain": [
       "<matplotlib.figure.Figure at 0x1a125c9f28>"
      ]
     },
     "metadata": {},
     "output_type": "display_data"
    }
   ],
   "source": [
    "'''\n",
    "Make a histogram of the actual and predicted response variable in the training set.\n",
    "'''\n",
    "  \n",
    "actual_targets_train    = y_train\n",
    "predicted_targets_train = rfrb.predict(X_train)\n",
    "actual_targets_test     = y_test\n",
    "predicted_targets_test  = rfrb.predict(X_test)\n",
    "    \n",
    "fig, axis = plt.subplots( nrows=2, ncols=1, figsize=(10,10) )\n",
    "axis[0].hist(predicted_targets_train, bins=100, range=[0.,1.], normed=False, histtype='bar', align='mid', \n",
    "             orientation='vertical', log=False, color='blue', alpha=0.3, edgecolor='k', label='Predicted')\n",
    "axis[0].hist(actual_targets_train, bins=100, range=[0.,1.], normed=False, histtype='bar', align='mid', \n",
    "             orientation='vertical', log=False, color='green', alpha=0.3, edgecolor='k', label='Actual')\n",
    "axis[0].set_xlabel(\"Turbine Output\", fontsize=15)\n",
    "axis[0].legend(prop={'size': 15},loc=\"upper right\")\n",
    "axis[0].text(0.08, 0.85, \"Training Samples\", fontsize=15, transform=axis[0].transAxes)\n",
    "\n",
    "axis[1].hist(predicted_targets_test, bins=100, range=[0.,1.], normed=False, histtype='bar', align='mid', \n",
    "             orientation='vertical', log=False, color='blue', alpha=0.3, edgecolor='k', label='Predicted')\n",
    "axis[1].hist(actual_targets_test, bins=100, range=[0.,1.], normed=False, histtype='bar', align='mid', \n",
    "             orientation='vertical', log=False, color='green', alpha=0.3, edgecolor='k', label='Actual')\n",
    "axis[1].set_xlabel(\"Turbine Output\", fontsize=15)\n",
    "axis[1].legend(prop={'size': 15},loc=\"upper right\")\n",
    "axis[1].text(0.08, 0.85, \"Testing Sample\", fontsize=15, transform=axis[1].transAxes)\n",
    "\n",
    "plt.show()\n"
   ]
  },
  {
   "cell_type": "code",
   "execution_count": null,
   "metadata": {},
   "outputs": [],
   "source": []
  },
  {
   "cell_type": "markdown",
   "metadata": {},
   "source": [
    "<a id='Cell8'></a>"
   ]
  },
  {
   "cell_type": "code",
   "execution_count": 10,
   "metadata": {},
   "outputs": [
    {
     "name": "stdout",
     "output_type": "stream",
     "text": [
      "CPU times: user 22min 14s, sys: 16.7 s, total: 22min 30s\n",
      "Wall time: 6min 19s\n",
      "\n",
      "Random forest regression model saved to fitted_models/rfr16_2017_04_23_21_09_23.model\n"
     ]
    }
   ],
   "source": [
    "'''\n",
    "Fit random forest model to entire training data set.\n",
    "'''\n",
    "settings = rfr_train.get_params()\n",
    "rfr      = RandomForestRegressor(**settings)\n",
    "%time rfr.fit(X, y)\n",
    "\n",
    "fName = 'rfr16_' + strftime(\"%Y_%m_%d_%H_%M_%S\")\n",
    "path_to_file = 'fitted_models/'+fName+'.model'\n",
    "joblib.dump(rfr, path_to_file)\n",
    "print('\\nRandom forest regression model saved to {0}'.format(path_to_file))"
   ]
  },
  {
   "cell_type": "markdown",
   "metadata": {},
   "source": [
    "<a id='Cell8b'></a>"
   ]
  },
  {
   "cell_type": "code",
   "execution_count": 11,
   "metadata": {},
   "outputs": [
    {
     "name": "stdout",
     "output_type": "stream",
     "text": [
      "Fitted model already exists, not updated from file!\n",
      "\n",
      "Estimator:\n",
      "\n",
      "RandomForestRegressor(bootstrap=True, criterion='mse', max_depth=50,\n",
      "           max_features='sqrt', max_leaf_nodes=None,\n",
      "           min_impurity_split=1e-07, min_samples_leaf=3,\n",
      "           min_samples_split=2, min_weight_fraction_leaf=0.0,\n",
      "           n_estimators=3000, n_jobs=-1, oob_score=False, random_state=0,\n",
      "           verbose=0, warm_start=False)\n",
      "\n"
     ]
    }
   ],
   "source": [
    "'''\n",
    "Retrieve trained model from disk. Only run this cell if previous one wasn't run.\n",
    "Note that by default the file name encodes a date and time, to the second.\n",
    "'''\n",
    "\n",
    "rfr_found = True\n",
    "\n",
    "try:\n",
    "    rfr\n",
    "except:\n",
    "    fName = 'rfr16_2017_04_23_21_09_23' # rm=3\n",
    "    path_to_file = 'fitted_models/'+fName+'.model'\n",
    "    try:\n",
    "        rfr = joblib.load(path_to_file)\n",
    "    except:\n",
    "        print('Error loading regression model from {0}\\n'.format(path_to_file))\n",
    "        rfr_found = False\n",
    "    else:\n",
    "        print('Regression model successfully loaded from {0}\\n'.format(path_to_file))    \n",
    "else:    \n",
    "    print('Fitted model already exists, not updated from file!\\n')\n",
    "\n",
    "if rfr_found:\n",
    "    print(\"Estimator:\\n\\n%s\\n\" %rfr)"
   ]
  },
  {
   "cell_type": "markdown",
   "metadata": {},
   "source": [
    "<a id='Cell9'></a>"
   ]
  },
  {
   "cell_type": "code",
   "execution_count": 9,
   "metadata": {},
   "outputs": [
    {
     "name": "stdout",
     "output_type": "stream",
     "text": [
      "PreProcess: Computing rolling means over 3H.\n",
      "PreProcess: Dataframe Shape = (29290, 17)\n",
      "\n",
      "Total number of observation times in test set:       29290\n",
      "Number of observations in August and September 2013: 14640\n",
      "\n",
      "Output written to data/rfr_2017_04_22_10_58_06.out.csv\n"
     ]
    }
   ],
   "source": [
    "'''\n",
    "Prepare test data set in the same way as the training set, make predictions, and create output csv file.\n",
    "'''\n",
    "\n",
    "# Preprocess testing data set.\n",
    "fname       = \"data/Test_uP7dymh.csv\"\n",
    "ttdf0       = PreProcess(fname, Nroll=rwin)\n",
    "\n",
    "# Save Id column to list.\n",
    "ttid        = ttdf0['Id'].tolist()\n",
    "\n",
    "# Count how many observations we have in August and September 2013\n",
    "nTotal      = len(ttdf0)\n",
    "nAugSep2013 = len([DoY for DoY in ttdf0['DayOfYear'] if DoY>212 and DoY<274])\n",
    "print('\\nTotal number of observation times in test set:       {0}'.format(nTotal))\n",
    "print('Number of observations in August and September 2013: {0}'.format(nAugSep2013))\n",
    "\n",
    "# Compute predictions for test set.\n",
    "ttX         = ttdf0.as_matrix(columns=features)\n",
    "tty         = rfr.predict(ttX)\n",
    "\n",
    "# Generate output csv file\n",
    "fName_out   = 'data/rfr_' + strftime(\"%Y_%m_%d_%H_%M_%S\") + '.out.csv'\n",
    "with open(fName_out, 'w') as csvfile:\n",
    "    writer  = csv.writer(csvfile)\n",
    "    writer.writerow([\"ID\", \"TARGETVAR\"])\n",
    "    for idval,yval in zip(ttid,tty):\n",
    "        writer.writerow([idval,yval])\n",
    "print('\\nOutput written to {0}'.format(fName_out))"
   ]
  },
  {
   "cell_type": "markdown",
   "metadata": {},
   "source": [
    "<a id='Cell10'></a>"
   ]
  },
  {
   "cell_type": "code",
   "execution_count": 36,
   "metadata": {},
   "outputs": [
    {
     "name": "stdout",
     "output_type": "stream",
     "text": [
      "PreProcess: Computing rolling means over 3H.\n",
      "PreProcess: Dataframe Shape = (29290, 18)\n",
      "\n",
      "Shape of final, combined training+solution data frame: (16800, 61)\n",
      "\n",
      "Number of rmse data points: 100\n"
     ]
    },
    {
     "data": {
      "image/png": "[encoded data removed]",
      "text/plain": [
       "<matplotlib.figure.Figure at 0x1b6ca4d50>"
      ]
     },
     "metadata": {},
     "output_type": "display_data"
    }
   ],
   "source": [
    "'''\n",
    "Make a plot of weekly RMSE over training and testing data sets combined.\n",
    "Assume we ran the first three cells of this notebook, so that df0 already contains the training data.\n",
    "Also assume that the fully trained model rfr is available.\n",
    "'''\n",
    "'''\n",
    "# Process solution data file.\n",
    "SolutionDataFile = \"data/Solution.csv\"\n",
    "df2              = PreProcess(SolutionDataFile, Nroll=rwin)\n",
    "'''\n",
    "# Concatenate the training and solution data frames.\n",
    "df3 = pd.concat([df0, df2])\n",
    "\n",
    "# Make predictions\n",
    "df3['Prediction'] = rfr.predict(df3[features])\n",
    "\n",
    "# Reverse one-hot encoding\n",
    "zoneIds = [\"ZoneId_\"+str(ind) for ind in range(2,11)]\n",
    "def get_zoneid(row):\n",
    "    codes   = [row[zoneId] for zoneId in zoneIds]\n",
    "    try:\n",
    "        ZID = codes.index(1) + 2\n",
    "    except:\n",
    "        ZID = 1\n",
    "    return ZID\n",
    "\n",
    "df3['ZoneId'] = df3.apply(get_zoneid, axis=1)\n",
    "df3.drop(zoneIds, axis=1, inplace=True)\n",
    "\n",
    "# Create timestamp column and use it to create a multi-index with ZoneId\n",
    "def ydh_to_dt(row):\n",
    "    year      = int(row['Year'])\n",
    "    dayofyear = int(row['DayOfYear'])\n",
    "    hour      = int(row['Hour'])\n",
    "    return datetime.datetime(year, 1, 1, hour) + datetime.timedelta(dayofyear - 1)\n",
    "\n",
    "df3['TimeStamp'] = df3.apply(ydh_to_dt, axis=1)\n",
    "df3.set_index(['TimeStamp', 'ZoneId'], drop=True, append=False, inplace=True, verify_integrity=True)\n",
    "\n",
    "# Unstack inner level of multi-index and rename columns\n",
    "df3.drop(['Id', 'Year', 'DayOfYear', 'Hour'], axis=1, inplace=True)\n",
    "df4         = df3.unstack()\n",
    "df4.columns = [item[0]+'_'+str(item[1]) for item in df4.columns.values if item[0]]\n",
    "\n",
    "# Compute Mean Squared Error on the ten target variables in each row.\n",
    "df4['MSE'] = sum([(df4['Target_'+str(ind)]-df4['Prediction_'+str(ind)])**2 for ind in range(1,11)])/10.0\n",
    "\n",
    "print('\\nShape of final, combined training+solution data frame: {0}'.format(df4.shape))\n",
    "\n",
    "# Compute weekly rmse.\n",
    "datetime0 = df4.index[0]\n",
    "rmse      = np.sqrt(df4.groupby((df4.index-datetime0).days/7).MSE.mean())\n",
    "npts      = len(rmse)\n",
    "print('\\nNumber of rmse data points: {0}'.format(npts))\n",
    "\n",
    "# Save weekly rmse to file\n",
    "with open('data/rfr16_weekly_rmse.csv', 'wb') as csvfile:\n",
    "    writer = csv.writer(csvfile, delimiter=',')\n",
    "    writer.writerow(rmse)\n",
    "\n",
    "# Make plot\n",
    "fig, axis = plt.subplots( nrows=1, ncols=1, figsize=(10,5) )\n",
    "axis.plot(range(1,101), rmse )\n",
    "axis.set_xlabel(\"Week Number\", fontsize=15)\n",
    "axis.set_ylabel(\"Root-Mean-Square Error\", fontsize=15)\n",
    "axis.set_ylim(0.0, 0.225)\n",
    "plt.show()\n",
    "fig.savefig('rfr16_weekly_rmse.png', dpi=200, bbox_inches='tight')"
   ]
  },
  {
   "cell_type": "code",
   "execution_count": null,
   "metadata": {},
   "outputs": [],
   "source": [
    "from sklearn.svm import SVR\n",
    "\n",
    "clflr = SVR(kernel = 'rbf', degree=3, gamma='auto', coef0=0.0, tol=0.001, C=1.0, epsilon=0.1, shrinking=True, cache_size=200, verbose=False, max_iter=-1)\n",
    "\n",
    "%time clflr.fit(X_train, y_train)\n",
    "\n",
    "\n",
    "\n",
    "\n",
    "y_train_pred = clflr.predict(X_train)\n",
    "y_test_pred  = clflr.predict(X_test)\n",
    "rmse_train   = np.sqrt(mean_squared_error(y_train, y_train_pred))\n",
    "rmse_test    = np.sqrt(mean_squared_error(y_test, y_test_pred))\n",
    "print('\\nRMSE on train data set: {0}'.format(rmse_train))\n",
    "print('RMSE on test data set:  {0}'.format(rmse_test))\n",
    "\n",
    "\n",
    "\n",
    "\n",
    "#actual_targets_train    = y_train\n",
    "#predicted_targets_train = clf.predict(X_train)\n",
    "#actual_targets_test     = y_test\n",
    "#predicted_targets_test  = clf.predict(X_test)\n",
    "    \n",
    "    \n",
    "#fig, axis = plt.subplots( nrows=2, ncols=1, figsize=(10,10) )\n",
    "#axis[0].hist(predicted_targets_train, bins=100, range=[0.,1.], normed=False, histtype='bar', align='mid', \n",
    "#             orientation='vertical', log=False, color='blue', alpha=0.3, edgecolor='k', label='Predicted')\n",
    "#axis[0].hist(actual_targets_train, bins=100, range=[0.,1.], normed=False, histtype='bar', align='mid', \n",
    "#             orientation='vertical', log=False, color='green', alpha=0.3, edgecolor='k', label='Actual')\n",
    "#axis[0].set_xlabel(\"Turbine Output\", fontsize=15)\n",
    "#axis[0].legend(prop={'size': 15},loc=\"upper right\")\n",
    "#axis[0].text(0.08, 0.85, \"Training Samples\", fontsize=15, transform=axis[0].transAxes)\n",
    "\n",
    "#axis[1].hist(predicted_targets_test, bins=100, range=[0.,1.], normed=False, histtype='bar', align='mid', \n",
    "#             orientation='vertical', log=False, color='blue', alpha=0.3, edgecolor='k', label='Predicted')\n",
    "#axis[1].hist(actual_targets_test, bins=100, range=[0.,1.], normed=False, histtype='bar', align='mid', \n",
    "#             orientation='vertical', log=False, color='green', alpha=0.3, edgecolor='k', label='Actual')\n",
    "#axis[1].set_xlabel(\"Turbine Output\", fontsize=15)\n",
    "#axis[1].legend(prop={'size': 15},loc=\"upper right\")\n",
    "#axis[1].text(0.08, 0.85, \"Testing Sample\", fontsize=15, transform=axis[1].transAxes)\n",
    "\n",
    "#plt.show()\n"
   ]
  },
  {
   "cell_type": "code",
   "execution_count": 11,
   "metadata": {},
   "outputs": [
    {
     "name": "stdout",
     "output_type": "stream",
     "text": [
      "CPU times: user 322 ms, sys: 65.1 ms, total: 387 ms\n",
      "Wall time: 529 ms\n",
      "\n",
      "RMSE on train data set: 0.11071658965139415\n",
      "RMSE on test data set:  0.1418622266466578\n",
      "\n",
      "MAE on train data set: 0.07524561797830207\n",
      "MAE on test data set:  0.09802674712011429\n"
     ]
    },
    {
     "data": {
      "image/png": "[encoded data removed]",
      "text/plain": [
       "<matplotlib.figure.Figure at 0x1aa62f7b70>"
      ]
     },
     "metadata": {},
     "output_type": "display_data"
    }
   ],
   "source": [
    "from sklearn.neighbors import KNeighborsRegressor\n",
    "\n",
    "knnr = KNeighborsRegressor(n_neighbors=5, weights='uniform', algorithm='auto', leaf_size=50, p=2, metric='minkowski', metric_params=None)\n",
    "\n",
    "%time knnr.fit(X_train, y_train)\n",
    "\n",
    "y_train_pred = knnr.predict(X_train)\n",
    "y_test_pred  = knnr.predict(X_test)\n",
    "rmse_train   = np.sqrt(mean_squared_error(y_train, y_train_pred))\n",
    "rmse_test    = np.sqrt(mean_squared_error(y_test, y_test_pred))\n",
    "print('\\nRMSE on train data set: {0}'.format(rmse_train))\n",
    "print('RMSE on test data set:  {0}'.format(rmse_test))\n",
    "\n",
    "mae_train = mean_absolute_error(y_train, y_train_pred)\n",
    "mae_test = mean_absolute_error(y_test, y_test_pred)\n",
    "print('\\nMAE on train data set: {0}'.format(mae_train))\n",
    "print('MAE on test data set:  {0}'.format(mae_test))\n",
    "\n",
    "actual_targets_train    = y_train\n",
    "predicted_targets_train = knnr.predict(X_train)\n",
    "actual_targets_test     = y_test\n",
    "predicted_targets_test  = knnr.predict(X_test)\n",
    "   \n",
    "    \n",
    "fig, axis = plt.subplots( nrows=2, ncols=1, figsize=(10,10) )\n",
    "axis[0].hist(predicted_targets_train, bins=100, range=[0.,1.], normed=False, histtype='bar', align='mid', \n",
    "             orientation='vertical', log=False, color='blue', alpha=0.3, edgecolor='k', label='Predicted')\n",
    "axis[0].hist(actual_targets_train, bins=100, range=[0.,1.], normed=False, histtype='bar', align='mid', \n",
    "             orientation='vertical', log=False, color='green', alpha=0.3, edgecolor='k', label='Actual')\n",
    "axis[0].set_xlabel(\"Turbine Output\", fontsize=15)\n",
    "axis[0].legend(prop={'size': 15},loc=\"upper right\")\n",
    "axis[0].text(0.08, 0.85, \"Training Samples\", fontsize=15, transform=axis[0].transAxes)\n",
    "\n",
    "axis[1].hist(predicted_targets_test, bins=100, range=[0.,1.], normed=False, histtype='bar', align='mid', \n",
    "             orientation='vertical', log=False, color='blue', alpha=0.3, edgecolor='k', label='Predicted')\n",
    "axis[1].hist(actual_targets_test, bins=100, range=[0.,1.], normed=False, histtype='bar', align='mid', \n",
    "             orientation='vertical', log=False, color='green', alpha=0.3, edgecolor='k', label='Actual')\n",
    "axis[1].set_xlabel(\"Turbine Output\", fontsize=15)\n",
    "axis[1].legend(prop={'size': 15},loc=\"upper right\")\n",
    "axis[1].text(0.08, 0.85, \"Testing Sample\", fontsize=15, transform=axis[1].transAxes)\n",
    "plt.show()"
   ]
  },
  {
   "cell_type": "code",
   "execution_count": 4,
   "metadata": {},
   "outputs": [
    {
     "name": "stdout",
     "output_type": "stream",
     "text": [
      "CPU times: user 2min 26s, sys: 1.15 s, total: 2min 28s\n",
      "Wall time: 2min 29s\n",
      "\n",
      "RMSE on train data set: 0.24701305699139778\n",
      "RMSE on test data set:  0.24799007557943756\n"
     ]
    },
    {
     "ename": "NameError",
     "evalue": "name 'mean_absolute_error' is not defined",
     "output_type": "error",
     "traceback": [
      "\u001b[0;31m---------------------------------------------------------------------------\u001b[0m",
      "\u001b[0;31mNameError\u001b[0m                                 Traceback (most recent call last)",
      "\u001b[0;32m<ipython-input-4-88681af69b6e>\u001b[0m in \u001b[0;36m<module>\u001b[0;34m()\u001b[0m\n\u001b[1;32m     17\u001b[0m \u001b[0;34m\u001b[0m\u001b[0m\n\u001b[1;32m     18\u001b[0m \u001b[0;34m\u001b[0m\u001b[0m\n\u001b[0;32m---> 19\u001b[0;31m \u001b[0mmae_train\u001b[0m \u001b[0;34m=\u001b[0m \u001b[0mmean_absolute_error\u001b[0m\u001b[0;34m(\u001b[0m\u001b[0my_train\u001b[0m\u001b[0;34m,\u001b[0m \u001b[0my_train_pred1\u001b[0m\u001b[0;34m)\u001b[0m\u001b[0;34m\u001b[0m\u001b[0m\n\u001b[0m\u001b[1;32m     20\u001b[0m \u001b[0mmae_test\u001b[0m \u001b[0;34m=\u001b[0m \u001b[0mmean_absolute_error\u001b[0m\u001b[0;34m(\u001b[0m\u001b[0my_test\u001b[0m\u001b[0;34m,\u001b[0m \u001b[0my_test_pred1\u001b[0m\u001b[0;34m)\u001b[0m\u001b[0;34m\u001b[0m\u001b[0m\n\u001b[1;32m     21\u001b[0m \u001b[0mprint\u001b[0m\u001b[0;34m(\u001b[0m\u001b[0;34m'\\nMAE on train data set: {0}'\u001b[0m\u001b[0;34m.\u001b[0m\u001b[0mformat\u001b[0m\u001b[0;34m(\u001b[0m\u001b[0mmae_train\u001b[0m\u001b[0;34m)\u001b[0m\u001b[0;34m)\u001b[0m\u001b[0;34m\u001b[0m\u001b[0m\n",
      "\u001b[0;31mNameError\u001b[0m: name 'mean_absolute_error' is not defined"
     ]
    }
   ],
   "source": [
    "from sklearn.ensemble import GradientBoostingRegressor\n",
    "\n",
    "clfqn = GradientBoostingRegressor(loss='quantile',\n",
    "                                n_estimators=500, max_depth=4,\n",
    "                                learning_rate=.1, min_samples_leaf=9,\n",
    "                                min_samples_split=9)\n",
    "\n",
    "%time clfqn.fit(X_train, y_train)\n",
    "\n",
    "y_train_pred1 = clfqn.predict(X_train)\n",
    "y_test_pred1  = clfqn.predict(X_test)\n",
    "rmse_train   = np.sqrt(mean_squared_error(y_train, y_train_pred1))\n",
    "rmse_test    = np.sqrt(mean_squared_error(y_test, y_test_pred1))\n",
    "print('\\nRMSE on train data set: {0}'.format(rmse_train))\n",
    "print('RMSE on test data set:  {0}'.format(rmse_test))\n",
    "\n",
    "\n",
    "\n",
    "mae_train = mean_absolute_error(y_train, y_train_pred1)\n",
    "mae_test = mean_absolute_error(y_test, y_test_pred1)\n",
    "print('\\nMAE on train data set: {0}'.format(mae_train))\n",
    "print('MAE on test data set:  {0}'.format(mae_test))\n"
   ]
  },
  {
   "cell_type": "code",
   "execution_count": 5,
   "metadata": {},
   "outputs": [
    {
     "name": "stdout",
     "output_type": "stream",
     "text": [
      "\n",
      "MAE on train data set: 0.19397771586410884\n",
      "MAE on test data set:  0.1958911860387888\n"
     ]
    }
   ],
   "source": [
    "from sklearn.metrics import mean_absolute_error\n",
    "mae_train = mean_absolute_error(y_train, y_train_pred1)\n",
    "mae_test = mean_absolute_error(y_test, y_test_pred1)\n",
    "print('\\nMAE on train data set: {0}'.format(mae_train))\n",
    "print('MAE on test data set:  {0}'.format(mae_test))\n",
    "mae_train = mean_absolute_error(y_train, y_train_pred1)\n",
    "mae_train = mean_abosulte_error(y_test, y_test_pred1)"
   ]
  },
  {
   "cell_type": "code",
   "execution_count": 51,
   "metadata": {},
   "outputs": [
    {
     "data": {
      "image/png": "[encoded data removed]",
      "text/plain": [
       "<matplotlib.figure.Figure at 0x109974a20>"
      ]
     },
     "metadata": {},
     "output_type": "display_data"
    }
   ],
   "source": [
    "actual_targets_train    = y_train\n",
    "predicted_targets_train = clfq.predict(X_train)\n",
    "actual_targets_test     = y_test\n",
    "predicted_targets_test  = clfq.predict(X_test)\n",
    "   \n",
    "    \n",
    "fig, axis = plt.subplots( nrows=2, ncols=1, figsize=(10,10) )\n",
    "axis[0].hist(predicted_targets_train, bins=100, range=[0.,1.], normed=False, histtype='bar', align='mid', \n",
    "             orientation='vertical', log=False, color='blue', alpha=0.3, edgecolor='k', label='Predicted')\n",
    "axis[0].hist(actual_targets_train, bins=100, range=[0.,1.], normed=False, histtype='bar', align='mid', \n",
    "             orientation='vertical', log=False, color='green', alpha=0.3, edgecolor='k', label='Actual')\n",
    "axis[0].set_xlabel(\"Turbine Output\", fontsize=15)\n",
    "axis[0].legend(prop={'size': 15},loc=\"upper right\")\n",
    "axis[0].text(0.08, 0.85, \"Training Samples\", fontsize=15, transform=axis[0].transAxes)\n",
    "\n",
    "axis[1].hist(predicted_targets_test, bins=100, range=[0.,1.], normed=False, histtype='bar', align='mid', \n",
    "             orientation='vertical', log=False, color='blue', alpha=0.3, edgecolor='k', label='Predicted')\n",
    "axis[1].hist(actual_targets_test, bins=100, range=[0.,1.], normed=False, histtype='bar', align='mid', \n",
    "             orientation='vertical', log=False, color='green', alpha=0.3, edgecolor='k', label='Actual')\n",
    "axis[1].set_xlabel(\"Turbine Output\", fontsize=15)\n",
    "axis[1].legend(prop={'size': 15},loc=\"upper right\")\n",
    "axis[1].text(0.08, 0.85, \"Testing Sample\", fontsize=15, transform=axis[1].transAxes)\n",
    "plt.show()"
   ]
  },
  {
   "cell_type": "code",
   "execution_count": 44,
   "metadata": {},
   "outputs": [
    {
     "name": "stdout",
     "output_type": "stream",
     "text": [
      "CPU times: user 18 s, sys: 8.25 s, total: 26.2 s\n",
      "Wall time: 16.1 s\n",
      "\n",
      "RMSE on train data set: 0.29595629395672557\n",
      "RMSE on test data set:  0.2951884614402923\n"
     ]
    }
   ],
   "source": [
    "from sklearn.neural_network import MLPRegressor\n",
    "\n",
    "mlp = MLPRegressor(activation='relu', alpha=1e-08, batch_size='auto',\n",
    "       beta_1=0.9, beta_2=0.999, early_stopping=False,\n",
    "       epsilon=1e-10, hidden_layer_sizes=(10), learning_rate='constant',\n",
    "       learning_rate_init=0.001, max_iter=350, momentum=0.9,\n",
    "       nesterovs_momentum=True, power_t=0.5, random_state=1, shuffle=True,\n",
    "       solver='lbfgs', tol=0.0001, validation_fraction=0.1, verbose=False,\n",
    "       warm_start=False)\n",
    "\n",
    "%time mlp.fit(X_train, y_train)\n",
    "\n",
    "y_train_pred = mlp.predict(X_train)\n",
    "y_test_pred  = mlp.predict(X_test)\n",
    "rmse_train   = np.sqrt(mean_squared_error(y_train, y_train_pred))\n",
    "rmse_test    = np.sqrt(mean_squared_error(y_test, y_test_pred))\n",
    "print('\\nRMSE on train data set: {0}'.format(rmse_train))\n",
    "print('RMSE on test data set:  {0}'.format(rmse_test))"
   ]
  },
  {
   "cell_type": "code",
   "execution_count": null,
   "metadata": {},
   "outputs": [],
   "source": []
  },
  {
   "cell_type": "code",
   "execution_count": null,
   "metadata": {},
   "outputs": [],
   "source": []
  },
  {
   "cell_type": "code",
   "execution_count": 13,
   "metadata": {},
   "outputs": [
    {
     "name": "stdout",
     "output_type": "stream",
     "text": [
      "CPU times: user 33.2 s, sys: 199 ms, total: 33.4 s\n",
      "Wall time: 33.7 s\n"
     ]
    },
    {
     "data": {
      "text/plain": [
       "GradientBoostingRegressor(alpha=0.9, criterion='friedman_mse', init=None,\n",
       "             learning_rate=0.1, loss='ls', max_depth=4, max_features=None,\n",
       "             max_leaf_nodes=None, min_impurity_decrease=0.0,\n",
       "             min_impurity_split=None, min_samples_leaf=1,\n",
       "             min_samples_split=2, min_weight_fraction_leaf=0.0,\n",
       "             n_estimators=100, presort='auto', random_state=None,\n",
       "             subsample=1.0, verbose=0, warm_start=False)"
      ]
     },
     "execution_count": 13,
     "metadata": {},
     "output_type": "execute_result"
    }
   ],
   "source": [
    "from sklearn.ensemble import GradientBoostingRegressor\n",
    "\n",
    "gbc = GradientBoostingRegressor(loss='ls', learning_rate=0.1, n_estimators=100, subsample=1.0, criterion='friedman_mse', min_samples_split=2, min_samples_leaf=1, min_weight_fraction_leaf=0.0, max_depth=4, min_impurity_decrease=0.0, min_impurity_split=None, init=None, random_state=None, max_features=None, alpha=0.9, verbose=0, max_leaf_nodes=None, warm_start=False, presort='auto')\n",
    "%time gbc.fit(X_train, y_train)\n",
    "\n"
   ]
  },
  {
   "cell_type": "code",
   "execution_count": 14,
   "metadata": {},
   "outputs": [
    {
     "name": "stdout",
     "output_type": "stream",
     "text": [
      "\n",
      "RMSE on train data set: 0.1608931303791007\n",
      "RMSE on test data set:  0.1616349631089966\n",
      "\n",
      "MAE on train data set: 0.11793307678151183\n",
      "MAE on test data set:  0.11852977870338724\n"
     ]
    }
   ],
   "source": [
    "\n",
    "y_train_pred = gbc.predict(X_train)\n",
    "y_test_pred  = gbc.predict(X_test)\n",
    "rmse_train   = np.sqrt(mean_squared_error(y_train, y_train_pred))\n",
    "rmse_test    = np.sqrt(mean_squared_error(y_test, y_test_pred))\n",
    "print('\\nRMSE on train data set: {0}'.format(rmse_train))\n",
    "print('RMSE on test data set:  {0}'.format(rmse_test))\n",
    "\n",
    "mae_train = mean_absolute_error(y_train, y_train_pred)\n",
    "mae_test = mean_absolute_error(y_test, y_test_pred)\n",
    "print('\\nMAE on train data set: {0}'.format(mae_train))\n",
    "print('MAE on test data set:  {0}'.format(mae_test))"
   ]
  },
  {
   "cell_type": "code",
   "execution_count": 52,
   "metadata": {},
   "outputs": [
    {
     "data": {
      "image/png": "[encoded data removed]",
      "text/plain": [
       "<matplotlib.figure.Figure at 0x1a12222908>"
      ]
     },
     "metadata": {},
     "output_type": "display_data"
    }
   ],
   "source": [
    "actual_targets_train    = y_train\n",
    "predicted_targets_train = gbc.predict(X_train)\n",
    "actual_targets_test     = y_test\n",
    "predicted_targets_test  = gbc.predict(X_test)\n",
    "   \n",
    "    \n",
    "fig, axis = plt.subplots( nrows=2, ncols=1, figsize=(10,10) )\n",
    "axis[0].hist(predicted_targets_train, bins=100, range=[0.,1.], normed=False, histtype='bar', align='mid', \n",
    "             orientation='vertical', log=False, color='blue', alpha=0.3, edgecolor='k', label='Predicted')\n",
    "axis[0].hist(actual_targets_train, bins=100, range=[0.,1.], normed=False, histtype='bar', align='mid', \n",
    "             orientation='vertical', log=False, color='green', alpha=0.3, edgecolor='k', label='Actual')\n",
    "axis[0].set_xlabel(\"Turbine Output\", fontsize=15)\n",
    "axis[0].legend(prop={'size': 15},loc=\"upper right\")\n",
    "axis[0].text(0.08, 0.85, \"Training Samples\", fontsize=15, transform=axis[0].transAxes)\n",
    "\n",
    "axis[1].hist(predicted_targets_test, bins=100, range=[0.,1.], normed=False, histtype='bar', align='mid', \n",
    "             orientation='vertical', log=False, color='blue', alpha=0.3, edgecolor='k', label='Predicted')\n",
    "axis[1].hist(actual_targets_test, bins=100, range=[0.,1.], normed=False, histtype='bar', align='mid', \n",
    "             orientation='vertical', log=False, color='green', alpha=0.3, edgecolor='k', label='Actual')\n",
    "axis[1].set_xlabel(\"Turbine Output\", fontsize=15)\n",
    "axis[1].legend(prop={'size': 15},loc=\"upper right\")\n",
    "axis[1].text(0.08, 0.85, \"Testing Sample\", fontsize=15, transform=axis[1].transAxes)\n",
    "plt.show()"
   ]
  },
  {
   "cell_type": "code",
   "execution_count": 60,
   "metadata": {
    "scrolled": true
   },
   "outputs": [
    {
     "name": "stdout",
     "output_type": "stream",
     "text": [
      "CPU times: user 11.3 s, sys: 146 ms, total: 11.5 s\n",
      "Wall time: 11.7 s\n",
      "\n",
      "RMSE on train data set: 0.2363906078958684\n",
      "RMSE on test data set:  0.23610153641266127\n"
     ]
    }
   ],
   "source": [
    "from sklearn.ensemble import AdaBoostRegressor\n",
    "abr = AdaBoostRegressor(n_estimators=100, learning_rate=1, loss='linear', random_state=None)\n",
    "\n",
    "%time abr.fit(X_train, y_train)\n",
    "\n",
    "y_train_pred = abr.predict(X_train)\n",
    "y_test_pred = abr.predict(X_test)\n",
    "\n",
    "rmse_train = np.sqrt(mean_squared_error(y_train,y_train_pred))\n",
    "rmse_test = np.sqrt(mean_squared_error(y_test,y_test_pred))\n",
    "print('\\nRMSE on train data set: {0}'.format(rmse_train))\n",
    "print('RMSE on test data set:  {0}'.format(rmse_test))"
   ]
  }
 ],
 "metadata": {
  "kernelspec": {
   "display_name": "Python 3",
   "language": "python",
   "name": "python3"
  },
  "language_info": {
   "codemirror_mode": {
    "name": "ipython",
    "version": 3
   },
   "file_extension": ".py",
   "mimetype": "text/x-python",
   "name": "python",
   "nbconvert_exporter": "python",
   "pygments_lexer": "ipython3",
   "version": "3.5.2"
  }
 },
 "nbformat": 4,
 "nbformat_minor": 1
}
