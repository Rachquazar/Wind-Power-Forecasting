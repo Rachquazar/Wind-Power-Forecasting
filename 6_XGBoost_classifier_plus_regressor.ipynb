{
 "cells": [
  {
   "cell_type": "markdown",
   "metadata": {},
   "source": [
    "# XGBoost Classification Analysis of Wind Turbine Data\n",
    "\n",
    "1. [Imports.](#Cell1)\n",
    "1. [Load preprocessed training data set and split it into training and testing data frames, separately for each turbine.](#Cell2)\n",
    "1. [Set some defaults values for classifier hyper-parameters.](#Cell3)\n",
    "1. [Fit xgb model and monitor performance as trees are added.](#Cell4)\n",
    "1. [Tune the number and size of trees using cross-validation.](#Cell5)\n",
    "1. [Tune the learning rate and the number of trees using cross-validation.](#Cell6)\n",
    "1. [Tune the row subsampling.](#Cell7)\n",
    "1. [Tune the column subsampling by tree.](#Cell8)\n",
    "1. [Tune the column subsampling by split.](#Cell9)\n",
    "1. [Tune the alpha regularization parameter.](#Cell10)\n",
    "1. [Tune the lambda regularization parameter.](#Cell11)\n",
    "1. [Create separate models for each of the ten turbines, using cross-validation.](#Cell12)\n",
    "1. [Retrieve from disk models that were trained on the training subsample only.](#Cell13)\n",
    "1. [Test the fitted models on the testing subset.](#Cell14)\n",
    "1. [Plot feature importances averaged over all turbines.](#Cell15)\n",
    "1. [Compare classifier and regressor on their ability to identify zero turbine output events in the test set.](#Cell16)\n",
    "1. [Compute RMSE on test set, with and without the classifier correction, and compare.](#Cell17)\n",
    "1. [Refit model with final settings to entire training data set and save fitted model to disk.](#Cell18)\n",
    "1. [Retrieve trained models from disk.](#Cell19)\n",
    "1. [Prepare the test data set in the same way as the training set, make predictions, and create output csv file.](#Cell20)"
   ]
  },
  {
   "cell_type": "markdown",
   "metadata": {},
   "source": [
    "<a id='Cell1'></a>"
   ]
  },
  {
   "cell_type": "code",
   "execution_count": 1,
   "metadata": {},
   "outputs": [],
   "source": [
    "'''\n",
    "Imports.\n",
    "'''\n",
    "import pandas as pd\n",
    "import numpy as np\n",
    "from sklearn.tree import DecisionTreeClassifier\n",
    "from sklearn.model_selection import train_test_split, GridSearchCV, StratifiedKFold\n",
    "from sklearn.metrics import log_loss, accuracy_score, confusion_matrix, mean_squared_error\n",
    "from sklearn.externals import joblib\n",
    "import xgboost as xgb\n",
    "from xgboost.sklearn import XGBClassifier\n",
    "from sklearn.ensemble import BaggingClassifier\n",
    "from blagging import BlaggingClassifier\n",
    "import matplotlib.pyplot as plt\n",
    "from time import strftime\n",
    "from datetime import datetime\n",
    "from operator import itemgetter\n",
    "import csv"
   ]
  },
  {
   "cell_type": "markdown",
   "metadata": {},
   "source": [
    "<a id='Cell2'></a>"
   ]
  },
  {
   "cell_type": "code",
   "execution_count": 2,
   "metadata": {
    "scrolled": true
   },
   "outputs": [
    {
     "name": "stdout",
     "output_type": "stream",
     "text": [
      "Shape of loaded data frame: (13871, 45)\n",
      "\n",
      "Predictor variables: ['U10_rm3_1', 'U100_rm3_1', 'V10_rm3_1', 'V100_rm3_1', 'U10_rm3_2', 'U100_rm3_2', 'V10_rm3_2', 'V100_rm3_2', 'U10_rm3_3', 'U100_rm3_3', 'V10_rm3_3', 'V100_rm3_3', 'U10_rm3_4', 'U100_rm3_4', 'V10_rm3_4', 'V100_rm3_4', 'U10_rm3_6', 'U100_rm3_6', 'V10_rm3_6', 'V100_rm3_6', 'U10_rm3_7', 'U100_rm3_7', 'V10_rm3_7', 'V100_rm3_7', 'U10_rm3_9', 'U100_rm3_9', 'V10_rm3_9', 'V100_rm3_9', 'U10_rm3_10', 'U100_rm3_10', 'V10_rm3_10', 'V100_rm3_10', 'YEAR', 'DAYOFYEAR', 'HOUR']\n",
      "\n",
      "Turbine  1 data frame shapes: train_X: (10000, 35), train_y: (10000,), test_X: (3871, 35), test_y: (3871,)\n",
      "Turbine  2 data frame shapes: train_X: (10000, 35), train_y: (10000,), test_X: (3871, 35), test_y: (3871,)\n",
      "Turbine  3 data frame shapes: train_X: (10000, 35), train_y: (10000,), test_X: (3871, 35), test_y: (3871,)\n",
      "Turbine  4 data frame shapes: train_X: (10000, 35), train_y: (10000,), test_X: (3871, 35), test_y: (3871,)\n",
      "Turbine  5 data frame shapes: train_X: (10000, 35), train_y: (10000,), test_X: (3871, 35), test_y: (3871,)\n",
      "Turbine  6 data frame shapes: train_X: (10000, 35), train_y: (10000,), test_X: (3871, 35), test_y: (3871,)\n",
      "Turbine  7 data frame shapes: train_X: (10000, 35), train_y: (10000,), test_X: (3871, 35), test_y: (3871,)\n",
      "Turbine  8 data frame shapes: train_X: (10000, 35), train_y: (10000,), test_X: (3871, 35), test_y: (3871,)\n",
      "Turbine  9 data frame shapes: train_X: (10000, 35), train_y: (10000,), test_X: (3871, 35), test_y: (3871,)\n",
      "Turbine 10 data frame shapes: train_X: (10000, 35), train_y: (10000,), test_X: (3871, 35), test_y: (3871,)\n",
      "\n",
      "Percentage of zero turbine outputs in full data set:  [10.0, 2.4, 6.4, 4.5, 8.0, 8.0, 8.8, 11.3, 17.0, 8.2]\n",
      "Percentage of zero turbine outputs in train data set: [10.0, 2.4, 6.4, 4.5, 8.0, 8.0, 8.8, 11.3, 17.0, 8.2]\n",
      "Percentage of zero turbine outputs in test data set:  [9.9, 2.4, 6.4, 4.5, 8.0, 8.0, 8.8, 11.3, 17.0, 8.2]\n"
     ]
    }
   ],
   "source": [
    "'''\n",
    "Load preprocessed training data set and split it into training and testing data frames, separately for each turbine.\n",
    "'''\n",
    "# Select training set size and preprocessed data file\n",
    "N_train = 10000\n",
    "#TrainingDataFile = \"data/Train_pp_2017_02_27_18_37_05.pkl\"\n",
    "#TrainingDataFile = \"data/Train_pp_2017_03_10_15_37_41.pkl\" # Rolling means over 3 measurements\n",
    "TrainingDataFile = \"data/Train_pp_2017_03_27_17_43_43.pkl\" # rm=3, dups removed\n",
    "\n",
    "# Load data, make a copy\n",
    "df0 = pd.read_pickle(TrainingDataFile)\n",
    "df1 = df0.copy()\n",
    "print('Shape of loaded data frame: {0}'.format(df0.shape))\n",
    "\n",
    "# Rename dataframe columns and make lists with the new predictor and target labels\n",
    "predictors  = [item[0]+'_'+str(item[1]) for item in df0.columns.values if item[0]!='TARGETVAR']\n",
    "predictors  = [predictor if predictor[-1]!='_' else predictor[:-1] for predictor in predictors]\n",
    "targets     = [item[0]+'_'+str(item[1]) for item in df0.columns.values if item[0]=='TARGETVAR']\n",
    "df0.columns = targets+predictors\n",
    "df1.columns = targets+predictors\n",
    "print('\\nPredictor variables: {0}\\n'.format(predictors))\n",
    "\n",
    "# Replace target values in df0 with binary labels for classification.\n",
    "pos = 1\n",
    "for target in targets:\n",
    "    df0[target] = df0[target].map(lambda x: pos if x==0 else 1-pos)\n",
    "\n",
    "# Split data set into training and testing subsets\n",
    "dfs_train_X = []\n",
    "dfs_test_X  = []\n",
    "dfs_train_y = []\n",
    "dfs_test_y  = []\n",
    "dfs_test_yt = []\n",
    "for target in targets:\n",
    "    df_train_X, df_test_X, df_train_y, df_test_y, df_train_yt, df_test_yt \\\n",
    "    = train_test_split(df0[predictors], df0[target], df1[target], \n",
    "                       stratify=df0[target], train_size=N_train, random_state=0)\n",
    "    dfs_train_X.append(df_train_X)\n",
    "    dfs_test_X.append(df_test_X)\n",
    "    dfs_train_y.append(df_train_y)\n",
    "    dfs_test_y.append(df_test_y)\n",
    "    dfs_test_yt.append(df_test_yt)\n",
    "\n",
    "# Print out the data frame shapes\n",
    "for ind, (df_train_X, df_train_y, df_test_X, df_test_y) \\\n",
    "in enumerate(zip(dfs_train_X, dfs_train_y, dfs_test_X, dfs_test_y)):\n",
    "    turbine = ind + 1\n",
    "    print('Turbine {0:2d} data frame shapes: train_X: {1}, train_y: {2}, test_X: {3}, test_y: {4}'\\\n",
    "          .format(turbine, df_train_X.shape, df_train_y.shape, df_test_X.shape, df_test_y.shape))\n",
    "\n",
    "# Print out the class distributions in the full, training, and test data sets.\n",
    "zeroes_all      = np.array([df0[df0[target]==pos][target].count() for target in targets]).astype(float)\n",
    "zeroes_all_pc   = [round(x,1) for x in 100*zeroes_all/len(df0)]\n",
    "zeroes_train    = np.array([df_train_y[df_train_y==pos].count() for df_train_y in dfs_train_y]).astype(float)\n",
    "zeroes_train_pc = [round(x,1) for x in 100*zeroes_train/len(df_train_y)]\n",
    "zeroes_test     = np.array([df_test_y[df_test_y==pos].count() for df_test_y in dfs_test_y]).astype(float)\n",
    "zeroes_test_pc  = [round(x,1) for x in 100*zeroes_test/len(df_test_y)]\n",
    "print('\\nPercentage of zero turbine outputs in full data set:  {0}'.format(zeroes_all_pc))\n",
    "print('Percentage of zero turbine outputs in train data set: {0}'.format(zeroes_train_pc))\n",
    "print('Percentage of zero turbine outputs in test data set:  {0}'.format(zeroes_test_pc))"
   ]
  },
  {
   "cell_type": "markdown",
   "metadata": {},
   "source": [
    "## Explore parameter space"
   ]
  },
  {
   "cell_type": "markdown",
   "metadata": {},
   "source": [
    "<a id='Cell3'></a>"
   ]
  },
  {
   "cell_type": "code",
   "execution_count": 4,
   "metadata": {},
   "outputs": [],
   "source": [
    "'''\n",
    "Set some defaults values for classifier hyper-parameters.\n",
    "'''\n",
    "\n",
    "defaults = {'objective': 'binary:logistic', 'n_estimators': 2000, 'max_depth': 3, 'learning_rate': 0.1, \n",
    "            'subsample': 1, 'colsample_bytree': 1, 'colsample_bylevel': 1, \n",
    "            'reg_alpha': 0, 'reg_lambda': 1, \n",
    "            'seed': 0, 'nthread': -1, 'silent': True}\n",
    "\n",
    "turbine    = 1\n",
    "df_train_X = dfs_train_X[turbine-1]\n",
    "df_train_y = dfs_train_y[turbine-1]\n",
    "df_test_X  = dfs_test_X[turbine-1]\n",
    "df_test_y  = dfs_test_y[turbine-1]\n",
    "evmetric   = 'logloss'\n",
    "threshold  = 0.50"
   ]
  },
  {
   "cell_type": "markdown",
   "metadata": {},
   "source": [
    "<a id='Cell4'></a>"
   ]
  },
  {
   "cell_type": "code",
   "execution_count": 5,
   "metadata": {
    "scrolled": false
   },
   "outputs": [
    {
     "name": "stdout",
     "output_type": "stream",
     "text": [
      "CPU times: user 1min 16s, sys: 1.02 s, total: 1min 17s\n",
      "Wall time: 1min 21s\n",
      "Algorithm: XGBClassifier(base_score=0.5, colsample_bylevel=1, colsample_bytree=1,\n",
      "       gamma=0, learning_rate=0.1, max_delta_step=0, max_depth=3,\n",
      "       min_child_weight=1, missing=None, n_estimators=2000, nthread=-1,\n",
      "       objective='binary:logistic', reg_alpha=0, reg_lambda=1,\n",
      "       scale_pos_weight=1, seed=0, silent=True, subsample=1)\n",
      "Log-Loss on Test Set at Best Iteration:  0.146001, Number of Trees: 591\n",
      "Log-Loss on Test Set at Final Iteration: 0.17112, Number of Trees: 2000\n",
      "Test Set Accuracy: 0.948592095066\n"
     ]
    },
    {
     "data": {
      "image/png": "[encoded data removed]",
      "text/plain": [
       "<matplotlib.figure.Figure at 0x106a982d0>"
      ]
     },
     "metadata": {},
     "output_type": "display_data"
    }
   ],
   "source": [
    "'''\n",
    "Fit xgb model and monitor performance as trees are added.\n",
    "'''\n",
    "%matplotlib inline\n",
    "\n",
    "# Fit model to training data\n",
    "xgb1     = XGBClassifier(**defaults)\n",
    "eval_set = [(df_train_X, df_train_y), \n",
    "            (df_test_X, df_test_y)]\n",
    "%time xgb1.fit(df_train_X, df_train_y, eval_metric=evmetric, eval_set=eval_set, verbose=False)\n",
    "\n",
    "# Make predictions for test data\n",
    "df_test_yprob = xgb1.predict_proba(df_test_X)\n",
    "df_test_ypred = [1 if prob>=threshold else 0 for (_,prob) in df_test_yprob]\n",
    "\n",
    "# Retrieve performance metrics\n",
    "results             = xgb1.evals_result()\n",
    "min_index, min_lolo = min(enumerate(results['validation_1'][evmetric]), key=itemgetter(1))\n",
    "n_trees_best        = min_index + 1\n",
    "n_trees_final       = len(results['validation_1'][evmetric])\n",
    "lolo_test           = results['validation_1'][evmetric][-1]\n",
    "accuracy            = accuracy_score(df_test_y, df_test_ypred)\n",
    "print('Algorithm: {0}'.format(xgb1))\n",
    "print(\"Log-Loss on Test Set at Best Iteration:  {0}, Number of Trees: {1}\".format(min_lolo, n_trees_best))\n",
    "print(\"Log-Loss on Test Set at Final Iteration: {0}, Number of Trees: {1}\".format(lolo_test, n_trees_final))\n",
    "print(\"Test Set Accuracy: {0}\".format(accuracy))\n",
    "\n",
    "#  Plot learning curves\n",
    "epochs = len(results['validation_0'][evmetric])\n",
    "x_axis = range(0, epochs)\n",
    "fig, axis = plt.subplots(nrows=1, ncols=1, figsize=(15, 7))\n",
    "axis.plot(x_axis, results['validation_0'][evmetric], label='Train')\n",
    "axis.plot(x_axis, results['validation_1'][evmetric], label='Test')\n",
    "axis.legend(fontsize=15)\n",
    "axis.set_xlabel('Number of Trees', fontsize=15)\n",
    "axis.set_ylabel(evmetric, fontsize=15)\n",
    "plt.show()"
   ]
  },
  {
   "cell_type": "markdown",
   "metadata": {},
   "source": [
    "<a id='Cell5'></a>"
   ]
  },
  {
   "cell_type": "code",
   "execution_count": 6,
   "metadata": {},
   "outputs": [
    {
     "name": "stdout",
     "output_type": "stream",
     "text": [
      "CPU times: user 1.11 s, sys: 227 ms, total: 1.34 s\n",
      "Wall time: 9min 49s\n",
      "\n",
      "Best score: 0.149490632497, using {'n_estimators': 350, 'max_depth': 6}\n",
      "\n",
      "0.151249714765 +/- 0.00260861088061, with {'n_estimators': 350, 'max_depth': 3}\n",
      "0.150963071577 +/- 0.00328893687846, with {'n_estimators': 400, 'max_depth': 3}\n",
      "0.15029358445 +/- 0.00344974922723, with {'n_estimators': 450, 'max_depth': 3}\n",
      "0.150169843926 +/- 0.00287773925096, with {'n_estimators': 500, 'max_depth': 3}\n",
      "0.149490632497 +/- 0.00359407845941, with {'n_estimators': 350, 'max_depth': 6}\n",
      "0.152545937711 +/- 0.00356729822121, with {'n_estimators': 400, 'max_depth': 6}\n",
      "0.155226563344 +/- 0.00326472641032, with {'n_estimators': 450, 'max_depth': 6}\n",
      "0.157977942532 +/- 0.00301697475486, with {'n_estimators': 500, 'max_depth': 6}\n",
      "0.157727041712 +/- 0.0021699463704, with {'n_estimators': 350, 'max_depth': 8}\n",
      "0.160720623564 +/- 0.00249837818395, with {'n_estimators': 400, 'max_depth': 8}\n",
      "0.163252499079 +/- 0.00279898615956, with {'n_estimators': 450, 'max_depth': 8}\n",
      "0.166303469522 +/- 0.00299237529356, with {'n_estimators': 500, 'max_depth': 8}\n",
      "0.161882599952 +/- 0.00299065552996, with {'n_estimators': 350, 'max_depth': 10}\n",
      "0.164795289266 +/- 0.00322678834583, with {'n_estimators': 400, 'max_depth': 10}\n",
      "0.167145413903 +/- 0.00330058782386, with {'n_estimators': 450, 'max_depth': 10}\n",
      "0.169364456804 +/- 0.00343887638686, with {'n_estimators': 500, 'max_depth': 10}\n"
     ]
    },
    {
     "data": {
      "image/png": "[encoded data removed]",
      "text/plain": [
       "<matplotlib.figure.Figure at 0x1150dd890>"
      ]
     },
     "metadata": {},
     "output_type": "display_data"
    },
    {
     "name": "stdout",
     "output_type": "stream",
     "text": [
      "Updated settings: {'reg_alpha': 0, 'colsample_bylevel': 1, 'learning_rate': 0.1, 'n_estimators': 350, 'seed': 0, 'colsample_bytree': 1, 'silent': True, 'nthread': -1, 'subsample': 1, 'reg_lambda': 1, 'objective': 'binary:logistic', 'max_depth': 6}\n"
     ]
    }
   ],
   "source": [
    "'''\n",
    "Tune the number and size of trees using cross-validation.\n",
    "'''\n",
    "# Grid search\n",
    "xgb1 = XGBClassifier(**defaults)\n",
    "searchGrid = {'n_estimators': [350, 400, 450, 500], 'max_depth': [3, 6, 8, 10]}\n",
    "kfold      = StratifiedKFold(n_splits=5, shuffle=True, random_state=5)\n",
    "gSearch    = GridSearchCV(xgb1, searchGrid, scoring='neg_log_loss', n_jobs=-1, cv=kfold, refit=False)\n",
    "%time gSearch.fit(df_train_X, df_train_y)\n",
    "\n",
    "# Summarize results\n",
    "print('\\nBest score: {0}, using {1}\\n'.format(-gSearch.best_score_, gSearch.best_params_))\n",
    "means  = gSearch.cv_results_['mean_test_score']\n",
    "stds   = gSearch.cv_results_['std_test_score']\n",
    "params = gSearch.cv_results_['params']\n",
    "for mean, stdev, param in zip(means, stds, params):\n",
    "    print('{0} +/- {1}, with {2}'.format(-mean, stdev, param))\n",
    "        \n",
    "# Plot results (flip the score signs so we have mse instead of -mse).\n",
    "n_xval    = len(searchGrid['n_estimators'])\n",
    "n_yval    = len(searchGrid['max_depth'])\n",
    "scores    = -np.array(means).reshape(n_yval, n_xval)\n",
    "escores   = np.array(stds).reshape(n_yval, n_xval)\n",
    "fig, axis = plt.subplots(nrows=1, ncols=1, figsize=(15, 7))\n",
    "x_offset = [-1.5, -0.5, 0.5, 1.5]\n",
    "for i, value in enumerate(searchGrid['max_depth']):\n",
    "    plt.errorbar(x_offset[i]+np.array(searchGrid['n_estimators']), scores[i], \n",
    "                 yerr=escores[i], fmt='-o', capsize=5, label='Tree Depth: '+str(value))\n",
    "plt.legend(fontsize=15)\n",
    "plt.xlabel('Number of Trees', fontsize=15)\n",
    "plt.ylabel('Log-Loss', fontsize=15)\n",
    "plt.show()\n",
    "\n",
    "# Update defaults\n",
    "defaults.update(gSearch.best_params_)\n",
    "print('Updated settings: {0}'.format(defaults))"
   ]
  },
  {
   "cell_type": "markdown",
   "metadata": {},
   "source": [
    "<a id='Cell6'></a>"
   ]
  },
  {
   "cell_type": "code",
   "execution_count": 7,
   "metadata": {},
   "outputs": [
    {
     "name": "stdout",
     "output_type": "stream",
     "text": [
      "CPU times: user 868 ms, sys: 149 ms, total: 1.02 s\n",
      "Wall time: 7min 53s\n",
      "\n",
      "Best score: 0.149490632497, using {'n_estimators': 350, 'learning_rate': 0.1}\n",
      "\n",
      "0.497641830379 +/- 0.00145373247688, with {'n_estimators': 350, 'learning_rate': 0.001}\n",
      "0.477704186365 +/- 0.00146092659523, with {'n_estimators': 400, 'learning_rate': 0.001}\n",
      "0.459162743548 +/- 0.00145253677425, with {'n_estimators': 450, 'learning_rate': 0.001}\n",
      "0.441964584461 +/- 0.00143110401172, with {'n_estimators': 500, 'learning_rate': 0.001}\n",
      "0.17490967938 +/- 0.00351436040952, with {'n_estimators': 350, 'learning_rate': 0.01}\n",
      "0.169177599916 +/- 0.00375283546558, with {'n_estimators': 400, 'learning_rate': 0.01}\n",
      "0.165052114061 +/- 0.00368898037535, with {'n_estimators': 450, 'learning_rate': 0.01}\n",
      "0.162153262022 +/- 0.00360167526281, with {'n_estimators': 500, 'learning_rate': 0.01}\n",
      "0.149490632497 +/- 0.00359407845941, with {'n_estimators': 350, 'learning_rate': 0.1}\n",
      "0.152545937711 +/- 0.00356729822121, with {'n_estimators': 400, 'learning_rate': 0.1}\n",
      "0.155226563344 +/- 0.00326472641032, with {'n_estimators': 450, 'learning_rate': 0.1}\n",
      "0.157977942532 +/- 0.00301697475486, with {'n_estimators': 500, 'learning_rate': 0.1}\n"
     ]
    },
    {
     "data": {
      "image/png": "[encoded data removed]",
      "text/plain": [
       "<matplotlib.figure.Figure at 0x1127f40d0>"
      ]
     },
     "metadata": {},
     "output_type": "display_data"
    },
    {
     "name": "stdout",
     "output_type": "stream",
     "text": [
      "Updated settings: {'reg_alpha': 0, 'colsample_bylevel': 1, 'learning_rate': 0.1, 'n_estimators': 350, 'seed': 0, 'colsample_bytree': 1, 'silent': True, 'nthread': -1, 'subsample': 1, 'reg_lambda': 1, 'objective': 'binary:logistic', 'max_depth': 6}\n"
     ]
    }
   ],
   "source": [
    "'''\n",
    "Tune the learning rate and the number of trees using cross-validation.\n",
    "'''\n",
    "# Grid search\n",
    "xgb1 = XGBClassifier(**defaults)\n",
    "searchGrid = {'n_estimators': [350, 400, 450, 500], 'learning_rate': [0.001, 0.01, 0.1]}\n",
    "kfold      = StratifiedKFold(n_splits=5, shuffle=True, random_state=5)\n",
    "gSearch    = GridSearchCV(xgb1, searchGrid, scoring='neg_log_loss', n_jobs=-1, cv=kfold, refit=False)\n",
    "%time gSearch.fit(df_train_X, df_train_y)\n",
    "\n",
    "# Summarize results\n",
    "print('\\nBest score: {0}, using {1}\\n'.format(-gSearch.best_score_, gSearch.best_params_))\n",
    "means  = gSearch.cv_results_['mean_test_score']\n",
    "stds   = gSearch.cv_results_['std_test_score']\n",
    "params = gSearch.cv_results_['params']\n",
    "for mean, stdev, param in zip(means, stds, params):\n",
    "    print('{0} +/- {1}, with {2}'.format(-mean, stdev, param))\n",
    "        \n",
    "# Plot results (flip the score signs so we have mse instead of -mse).\n",
    "n_xval    = len(searchGrid['n_estimators'])\n",
    "n_yval    = len(searchGrid['learning_rate'])\n",
    "scores    = -np.array(means).reshape(n_yval, n_xval)\n",
    "escores   = np.array(stds).reshape(n_yval, n_xval)\n",
    "fig, axis = plt.subplots(nrows=1, ncols=1, figsize=(15, 7))\n",
    "x_offset  = [-1.5, 0.0, 1.5]\n",
    "for i, value in enumerate(searchGrid['learning_rate']):\n",
    "    plt.errorbar(x_offset[i]+np.array(searchGrid['n_estimators']), scores[i], \n",
    "                 yerr=escores[i], fmt='-o', capsize=5, label='Learning Rate: '+str(value))\n",
    "plt.legend(fontsize=15)\n",
    "plt.xlabel('Number of Trees', fontsize=15)\n",
    "plt.ylabel('Log-Loss', fontsize=15)\n",
    "plt.show()\n",
    "\n",
    "# Update defaults\n",
    "defaults.update(gSearch.best_params_)\n",
    "print('Updated settings: {0}'.format(defaults))"
   ]
  },
  {
   "cell_type": "markdown",
   "metadata": {},
   "source": [
    "<a id='Cell7'></a>"
   ]
  },
  {
   "cell_type": "code",
   "execution_count": 8,
   "metadata": {},
   "outputs": [
    {
     "name": "stdout",
     "output_type": "stream",
     "text": [
      "CPU times: user 543 ms, sys: 117 ms, total: 659 ms\n",
      "Wall time: 3min 12s\n",
      "\n",
      "Best score: 0.145385389501, using {'subsample': 0.5}\n",
      "\n",
      "0.149385761895 +/- 0.00336073593446, with {'subsample': 0.4}\n",
      "0.145385389501 +/- 0.00616625922086, with {'subsample': 0.5}\n",
      "0.14753424433 +/- 0.00622499196307, with {'subsample': 0.6}\n",
      "0.148347464994 +/- 0.002691628868, with {'subsample': 0.7}\n",
      "0.148867049662 +/- 0.00615524549856, with {'subsample': 0.8}\n",
      "0.148018952506 +/- 0.00522385105246, with {'subsample': 0.9}\n",
      "0.149490632497 +/- 0.00359407845941, with {'subsample': 1.0}\n"
     ]
    },
    {
     "data": {
      "image/png": "[encoded data removed]",
      "text/plain": [
       "<matplotlib.figure.Figure at 0x1127cded0>"
      ]
     },
     "metadata": {},
     "output_type": "display_data"
    },
    {
     "name": "stdout",
     "output_type": "stream",
     "text": [
      "Updated settings: {'reg_alpha': 0, 'colsample_bylevel': 1, 'learning_rate': 0.1, 'n_estimators': 350, 'seed': 0, 'colsample_bytree': 1, 'silent': True, 'nthread': -1, 'subsample': 0.5, 'reg_lambda': 1, 'objective': 'binary:logistic', 'max_depth': 6}\n"
     ]
    }
   ],
   "source": [
    "'''\n",
    "Tune the row subsampling.\n",
    "'''\n",
    "# Grid search\n",
    "xgb1 = XGBClassifier(**defaults)\n",
    "searchGrid = {'subsample': [0.4, 0.5, 0.6, 0.7, 0.8, 0.9, 1.0]}\n",
    "kfold      = StratifiedKFold(n_splits=5, shuffle=True, random_state=5)\n",
    "gSearch    = GridSearchCV(xgb1, searchGrid, scoring='neg_log_loss', n_jobs=-1, cv=kfold, refit=False)\n",
    "%time gSearch.fit(df_train_X, df_train_y)\n",
    "\n",
    "# Summarize results\n",
    "print('\\nBest score: {0}, using {1}\\n'.format(-gSearch.best_score_, gSearch.best_params_))\n",
    "means  = -gSearch.cv_results_['mean_test_score']\n",
    "stds   = gSearch.cv_results_['std_test_score']\n",
    "params = gSearch.cv_results_['params']\n",
    "for mean, stdev, param in zip(means, stds, params):\n",
    "    print('{0} +/- {1}, with {2}'.format(mean, stdev, param))\n",
    "        \n",
    "# Plot results\n",
    "fig, axis = plt.subplots(nrows=1, ncols=1, figsize=(15, 7))\n",
    "plt.errorbar(searchGrid['subsample'], means, yerr=stds, fmt='-o', capsize=5)\n",
    "plt.xlabel('Row Subsampling', fontsize=15)\n",
    "plt.ylabel('Log-Loss', fontsize=15)\n",
    "plt.show()\n",
    "\n",
    "# Update defaults\n",
    "defaults.update(gSearch.best_params_)\n",
    "print('Updated settings: {0}'.format(defaults))"
   ]
  },
  {
   "cell_type": "markdown",
   "metadata": {},
   "source": [
    "<a id='Cell8'></a>"
   ]
  },
  {
   "cell_type": "code",
   "execution_count": 9,
   "metadata": {},
   "outputs": [
    {
     "name": "stdout",
     "output_type": "stream",
     "text": [
      "CPU times: user 547 ms, sys: 117 ms, total: 664 ms\n",
      "Wall time: 2min 6s\n",
      "\n",
      "Best score: 0.145385389501, using {'colsample_bytree': 1.0}\n",
      "\n",
      "0.147023447587 +/- 0.00647977645258, with {'colsample_bytree': 0.4}\n",
      "0.147824028832 +/- 0.00577041855917, with {'colsample_bytree': 0.5}\n",
      "0.146226471609 +/- 0.0050502252622, with {'colsample_bytree': 0.6}\n",
      "0.146637979621 +/- 0.00763411135629, with {'colsample_bytree': 0.7}\n",
      "0.148902509928 +/- 0.00565740993408, with {'colsample_bytree': 0.8}\n",
      "0.146015737801 +/- 0.00661005052914, with {'colsample_bytree': 0.9}\n",
      "0.145385389501 +/- 0.00616625922086, with {'colsample_bytree': 1.0}\n"
     ]
    },
    {
     "data": {
      "image/png": "[encoded data removed]",
      "text/plain": [
       "<matplotlib.figure.Figure at 0x114eb8e10>"
      ]
     },
     "metadata": {},
     "output_type": "display_data"
    },
    {
     "name": "stdout",
     "output_type": "stream",
     "text": [
      "Updated settings: {'reg_alpha': 0, 'colsample_bylevel': 1, 'learning_rate': 0.1, 'n_estimators': 350, 'seed': 0, 'colsample_bytree': 1.0, 'silent': True, 'nthread': -1, 'subsample': 0.5, 'reg_lambda': 1, 'objective': 'binary:logistic', 'max_depth': 6}\n"
     ]
    }
   ],
   "source": [
    "'''\n",
    "Tune the column subsampling by tree.\n",
    "'''\n",
    "# Grid search\n",
    "xgb1 = XGBClassifier(**defaults)\n",
    "searchGrid = {'colsample_bytree': [0.4, 0.5, 0.6, 0.7, 0.8, 0.9, 1.0]}\n",
    "kfold      = StratifiedKFold(n_splits=5, shuffle=True, random_state=5)\n",
    "gSearch    = GridSearchCV(xgb1, searchGrid, scoring='neg_log_loss', n_jobs=-1, cv=kfold, refit=False)\n",
    "%time gSearch.fit(df_train_X, df_train_y)\n",
    "\n",
    "# Summarize results\n",
    "print('\\nBest score: {0}, using {1}\\n'.format(-gSearch.best_score_, gSearch.best_params_))\n",
    "means  = -gSearch.cv_results_['mean_test_score']\n",
    "stds   = gSearch.cv_results_['std_test_score']\n",
    "params = gSearch.cv_results_['params']\n",
    "for mean, stdev, param in zip(means, stds, params):\n",
    "    print('{0} +/- {1}, with {2}'.format(mean, stdev, param))\n",
    "        \n",
    "# Plot results\n",
    "fig, axis = plt.subplots(nrows=1, ncols=1, figsize=(15, 7))\n",
    "plt.errorbar(searchGrid['colsample_bytree'], means, yerr=stds, fmt='-o', capsize=5)\n",
    "plt.xlabel('Column Subsampling by Tree', fontsize=15)\n",
    "plt.ylabel('Log-Loss', fontsize=15)\n",
    "plt.show()\n",
    "\n",
    "# Update defaults\n",
    "defaults.update(gSearch.best_params_)\n",
    "print('Updated settings: {0}'.format(defaults))"
   ]
  },
  {
   "cell_type": "markdown",
   "metadata": {},
   "source": [
    "<a id='Cell9'></a>"
   ]
  },
  {
   "cell_type": "code",
   "execution_count": 10,
   "metadata": {},
   "outputs": [
    {
     "name": "stdout",
     "output_type": "stream",
     "text": [
      "CPU times: user 546 ms, sys: 127 ms, total: 673 ms\n",
      "Wall time: 2min\n",
      "\n",
      "Best score: 0.145254928146, using {'colsample_bylevel': 0.9}\n",
      "\n",
      "0.145685361399 +/- 0.00477172505889, with {'colsample_bylevel': 0.4}\n",
      "0.147274233977 +/- 0.000879507854088, with {'colsample_bylevel': 0.5}\n",
      "0.145887988783 +/- 0.004082068452, with {'colsample_bylevel': 0.6}\n",
      "0.146222918074 +/- 0.00725208106435, with {'colsample_bylevel': 0.7}\n",
      "0.147903069437 +/- 0.00472442903806, with {'colsample_bylevel': 0.8}\n",
      "0.145254928146 +/- 0.00458550405777, with {'colsample_bylevel': 0.9}\n",
      "0.145385389501 +/- 0.00616625922086, with {'colsample_bylevel': 1.0}\n"
     ]
    },
    {
     "data": {
      "image/png": "[encoded data removed]",
      "text/plain": [
       "<matplotlib.figure.Figure at 0x106a5ae50>"
      ]
     },
     "metadata": {},
     "output_type": "display_data"
    },
    {
     "name": "stdout",
     "output_type": "stream",
     "text": [
      "Updated settings: {'reg_alpha': 0, 'colsample_bylevel': 0.9, 'learning_rate': 0.1, 'n_estimators': 350, 'seed': 0, 'colsample_bytree': 1.0, 'silent': True, 'nthread': -1, 'subsample': 0.5, 'reg_lambda': 1, 'objective': 'binary:logistic', 'max_depth': 6}\n"
     ]
    }
   ],
   "source": [
    "'''\n",
    "Tune the column subsampling by split.\n",
    "'''\n",
    "# Grid search\n",
    "xgb1 = XGBClassifier(**defaults)\n",
    "searchGrid = {'colsample_bylevel': [0.4, 0.5, 0.6, 0.7, 0.8, 0.9, 1.0]}\n",
    "kfold      = StratifiedKFold(n_splits=5, shuffle=True, random_state=5)\n",
    "gSearch    = GridSearchCV(xgb1, searchGrid, scoring='neg_log_loss', n_jobs=-1, cv=kfold, refit=False)\n",
    "%time gSearch.fit(df_train_X, df_train_y)\n",
    "\n",
    "# Summarize results\n",
    "print('\\nBest score: {0}, using {1}\\n'.format(-gSearch.best_score_, gSearch.best_params_))\n",
    "means  = -gSearch.cv_results_['mean_test_score']\n",
    "stds   = gSearch.cv_results_['std_test_score']\n",
    "params = gSearch.cv_results_['params']\n",
    "for mean, stdev, param in zip(means, stds, params):\n",
    "    print('{0} +/- {1}, with {2}'.format(mean, stdev, param))\n",
    "        \n",
    "# Plot results\n",
    "fig, axis = plt.subplots(nrows=1, ncols=1, figsize=(15, 7))\n",
    "plt.errorbar(searchGrid['colsample_bylevel'], means, yerr=stds, fmt='-o', capsize=5)\n",
    "plt.xlabel('Column Subsampling by Split', fontsize=15)\n",
    "plt.ylabel('Log-Loss', fontsize=15)\n",
    "plt.show()\n",
    "\n",
    "# Update defaults\n",
    "defaults.update(gSearch.best_params_)\n",
    "print('Updated settings: {0}'.format(defaults))"
   ]
  },
  {
   "cell_type": "markdown",
   "metadata": {},
   "source": [
    "<a id='Cell10'></a>"
   ]
  },
  {
   "cell_type": "code",
   "execution_count": 11,
   "metadata": {},
   "outputs": [
    {
     "name": "stdout",
     "output_type": "stream",
     "text": [
      "CPU times: user 582 ms, sys: 119 ms, total: 701 ms\n",
      "Wall time: 2min 44s\n",
      "\n",
      "Best score: 0.14106624946, using {'reg_alpha': 1.0}\n",
      "\n",
      "0.145254744703 +/- 0.00458550061523, with {'reg_alpha': 1e-05}\n",
      "0.146717983716 +/- 0.00526686055199, with {'reg_alpha': 0.0001}\n",
      "0.146755384659 +/- 0.00499788451186, with {'reg_alpha': 0.001}\n",
      "0.145318053501 +/- 0.0074320902671, with {'reg_alpha': 0.01}\n",
      "0.147210088588 +/- 0.00515018784723, with {'reg_alpha': 0.1}\n",
      "0.14106624946 +/- 0.00223713356981, with {'reg_alpha': 1.0}\n",
      "0.151077473693 +/- 0.00304918080548, with {'reg_alpha': 10.0}\n",
      "0.268300328954 +/- 0.00165600819107, with {'reg_alpha': 100.0}\n"
     ]
    },
    {
     "data": {
      "image/png": "[encoded data removed]",
      "text/plain": [
       "<matplotlib.figure.Figure at 0x10765d610>"
      ]
     },
     "metadata": {},
     "output_type": "display_data"
    },
    {
     "name": "stdout",
     "output_type": "stream",
     "text": [
      "Updated settings: {'reg_alpha': 1.0, 'colsample_bylevel': 0.9, 'learning_rate': 0.1, 'n_estimators': 350, 'seed': 0, 'colsample_bytree': 1.0, 'silent': True, 'nthread': -1, 'subsample': 0.5, 'reg_lambda': 1, 'objective': 'binary:logistic', 'max_depth': 6}\n"
     ]
    }
   ],
   "source": [
    "'''\n",
    "Tune the alpha regularization parameter.\n",
    "'''\n",
    "# Grid search\n",
    "xgb1 = XGBClassifier(**defaults)\n",
    "searchGrid = {'reg_alpha': [1.0E-05, 1.0E-04, 1.0E-03, 1.0E-02, 0.1, 1.0, 10.0, 100.0]}\n",
    "kfold      = StratifiedKFold(n_splits=5, shuffle=True, random_state=5)\n",
    "gSearch    = GridSearchCV(xgb1, searchGrid, scoring='neg_log_loss', n_jobs=-1, cv=kfold, refit=False)\n",
    "%time gSearch.fit(df_train_X, df_train_y)\n",
    "\n",
    "# Summarize results\n",
    "print('\\nBest score: {0}, using {1}\\n'.format(-gSearch.best_score_, gSearch.best_params_))\n",
    "means  = -gSearch.cv_results_['mean_test_score']\n",
    "stds   = gSearch.cv_results_['std_test_score']\n",
    "params = gSearch.cv_results_['params']\n",
    "for mean, stdev, param in zip(means, stds, params):\n",
    "    print('{0} +/- {1}, with {2}'.format(mean, stdev, param))\n",
    "        \n",
    "# Plot results\n",
    "fig, axis = plt.subplots(nrows=1, ncols=1, figsize=(15, 7))\n",
    "axis.errorbar(searchGrid['reg_alpha'], means, yerr=stds, fmt='-o', capsize=5)\n",
    "axis.set_xlabel('Alpha Regularization', fontsize=15)\n",
    "axis.set_xscale('log')\n",
    "axis.set_ylabel('Log-Loss', fontsize=15)\n",
    "plt.show()\n",
    "\n",
    "# Update defaults\n",
    "defaults.update(gSearch.best_params_)\n",
    "print('Updated settings: {0}'.format(defaults))"
   ]
  },
  {
   "cell_type": "markdown",
   "metadata": {},
   "source": [
    "<a id='Cell11'></a>"
   ]
  },
  {
   "cell_type": "code",
   "execution_count": 12,
   "metadata": {},
   "outputs": [
    {
     "name": "stdout",
     "output_type": "stream",
     "text": [
      "CPU times: user 410 ms, sys: 106 ms, total: 516 ms\n",
      "Wall time: 2min 3s\n",
      "\n",
      "Best score: 0.140220562992, using {'reg_lambda': 10.0}\n",
      "\n",
      "0.145621035585 +/- 0.00237211815504, with {'reg_lambda': 0.01}\n",
      "0.144402766883 +/- 0.00500053475305, with {'reg_lambda': 0.1}\n",
      "0.14106624946 +/- 0.00223713356981, with {'reg_lambda': 1.0}\n",
      "0.140220562992 +/- 0.0032052902207, with {'reg_lambda': 10.0}\n",
      "0.155814600957 +/- 0.00298858755476, with {'reg_lambda': 100.0}\n"
     ]
    },
    {
     "data": {
      "image/png": "[encoded data removed]",
      "text/plain": [
       "<matplotlib.figure.Figure at 0x1150cf910>"
      ]
     },
     "metadata": {},
     "output_type": "display_data"
    },
    {
     "name": "stdout",
     "output_type": "stream",
     "text": [
      "Updated settings: {'reg_alpha': 1.0, 'colsample_bylevel': 0.9, 'learning_rate': 0.1, 'n_estimators': 350, 'seed': 0, 'colsample_bytree': 1.0, 'silent': True, 'nthread': -1, 'subsample': 0.5, 'reg_lambda': 10.0, 'objective': 'binary:logistic', 'max_depth': 6}\n"
     ]
    }
   ],
   "source": [
    "'''\n",
    "Tune the lambda regularization parameter.\n",
    "'''\n",
    "# Grid search\n",
    "xgb1 = XGBClassifier(**defaults)\n",
    "searchGrid = {'reg_lambda': [0.01, 0.1, 1.0, 10.0, 100.0]}\n",
    "kfold      = StratifiedKFold(n_splits=5, shuffle=True, random_state=5)\n",
    "gSearch    = GridSearchCV(xgb1, searchGrid, scoring='neg_log_loss', n_jobs=-1, cv=kfold, refit=False)\n",
    "%time gSearch.fit(df_train_X, df_train_y)\n",
    "\n",
    "# Summarize results\n",
    "print('\\nBest score: {0}, using {1}\\n'.format(-gSearch.best_score_, gSearch.best_params_))\n",
    "means  = -gSearch.cv_results_['mean_test_score']\n",
    "stds   = gSearch.cv_results_['std_test_score']\n",
    "params = gSearch.cv_results_['params']\n",
    "for mean, stdev, param in zip(means, stds, params):\n",
    "    print('{0} +/- {1}, with {2}'.format(mean, stdev, param))\n",
    "        \n",
    "# Plot results\n",
    "fig, axis = plt.subplots(nrows=1, ncols=1, figsize=(15, 7))\n",
    "axis.errorbar(searchGrid['reg_lambda'], means, yerr=stds, fmt='-o', capsize=5)\n",
    "axis.set_xlabel('Lambda Regularization', fontsize=15)\n",
    "axis.set_xscale('log')\n",
    "axis.set_ylabel('Log-Loss', fontsize=15)\n",
    "plt.show()\n",
    "\n",
    "# Update defaults\n",
    "defaults.update(gSearch.best_params_)\n",
    "print('Updated settings: {0}'.format(defaults))"
   ]
  },
  {
   "cell_type": "markdown",
   "metadata": {},
   "source": [
    "## Fit model to training subset of training sample and check properties on test subset."
   ]
  },
  {
   "cell_type": "markdown",
   "metadata": {},
   "source": [
    "<a id='Cell12'></a>"
   ]
  },
  {
   "cell_type": "code",
   "execution_count": 13,
   "metadata": {
    "scrolled": false
   },
   "outputs": [
    {
     "name": "stdout",
     "output_type": "stream",
     "text": [
      "\n",
      "Fitting turbine 1...\n",
      "   Updated parameters: {'learning_rate': 0.1}, best score: -0.140220562992\n",
      "   Updated parameters: {'max_depth': 12}, best score: -0.138972641202\n",
      "   Updated parameters: {'subsample': 0.7}, best score: -0.138524418603\n",
      "   Updated parameters: {'colsample_bytree': 0.4}, best score: -0.138238479813\n",
      "   Updated parameters: {'colsample_bylevel': 0.9}, best score: -0.138238479813\n",
      "   Updated parameters: {'reg_alpha': 0.0001}, best score: -0.137291212423\n",
      "   Updated parameters: {'reg_lambda': 10.0}, best score: -0.137291212423\n",
      "\n",
      "Fitting turbine 2...\n",
      "   Updated parameters: {'learning_rate': 0.1}, best score: -0.0614932691916\n",
      "   Updated parameters: {'max_depth': 12}, best score: -0.0611426662858\n",
      "   Updated parameters: {'subsample': 0.9}, best score: -0.0589734991899\n",
      "   Updated parameters: {'colsample_bytree': 1.0}, best score: -0.0589734991899\n",
      "   Updated parameters: {'colsample_bylevel': 0.9}, best score: -0.0589734991899\n",
      "   Updated parameters: {'reg_alpha': 1.0}, best score: -0.0589734991899\n",
      "   Updated parameters: {'reg_lambda': 10.0}, best score: -0.0589734991899\n",
      "\n",
      "Fitting turbine 3...\n",
      "   Updated parameters: {'learning_rate': 0.1}, best score: -0.103741012525\n",
      "   Updated parameters: {'max_depth': 8}, best score: -0.10227405953\n",
      "   Updated parameters: {'subsample': 0.8}, best score: -0.100315636736\n",
      "   Updated parameters: {'colsample_bytree': 0.8}, best score: -0.0997718939982\n",
      "   Updated parameters: {'colsample_bylevel': 0.9}, best score: -0.0997718939982\n",
      "   Updated parameters: {'reg_alpha': 1.0}, best score: -0.0997718939982\n",
      "   Updated parameters: {'reg_lambda': 10.0}, best score: -0.0997718939982\n",
      "\n",
      "Fitting turbine 4...\n",
      "   Updated parameters: {'learning_rate': 0.1}, best score: -0.106146689511\n",
      "   Updated parameters: {'max_depth': 10}, best score: -0.105022656834\n",
      "   Updated parameters: {'subsample': 0.6}, best score: -0.104870911478\n",
      "   Updated parameters: {'colsample_bytree': 0.5}, best score: -0.103674678124\n",
      "   Updated parameters: {'colsample_bylevel': 0.9}, best score: -0.103674678124\n",
      "   Updated parameters: {'reg_alpha': 1.0}, best score: -0.103674678124\n",
      "   Updated parameters: {'reg_lambda': 10.0}, best score: -0.103674678124\n",
      "\n",
      "Fitting turbine 5...\n",
      "   Updated parameters: {'learning_rate': 0.1}, best score: -0.124911404571\n",
      "   Updated parameters: {'max_depth': 10}, best score: -0.123765224686\n",
      "   Updated parameters: {'subsample': 1.0}, best score: -0.122332825365\n",
      "   Updated parameters: {'colsample_bytree': 0.4}, best score: -0.121686320374\n",
      "   Updated parameters: {'colsample_bylevel': 0.9}, best score: -0.121686320374\n",
      "   Updated parameters: {'reg_alpha': 1.0}, best score: -0.121686320374\n",
      "   Updated parameters: {'reg_lambda': 10.0}, best score: -0.121686320374\n",
      "\n",
      "Fitting turbine 6...\n",
      "   Updated parameters: {'learning_rate': 0.1}, best score: -0.124251975269\n",
      "   Updated parameters: {'max_depth': 8}, best score: -0.123038504128\n",
      "   Updated parameters: {'subsample': 0.8}, best score: -0.121014236116\n",
      "   Updated parameters: {'colsample_bytree': 0.8}, best score: -0.120977074987\n",
      "   Updated parameters: {'colsample_bylevel': 0.9}, best score: -0.120977074987\n",
      "   Updated parameters: {'reg_alpha': 1.0}, best score: -0.120977074987\n",
      "   Updated parameters: {'reg_lambda': 10.0}, best score: -0.120977074987\n",
      "\n",
      "Fitting turbine 7...\n",
      "   Updated parameters: {'learning_rate': 0.1}, best score: -0.125604393128\n",
      "   Updated parameters: {'max_depth': 10}, best score: -0.124659643498\n",
      "   Updated parameters: {'subsample': 0.6}, best score: -0.123694009775\n",
      "   Updated parameters: {'colsample_bytree': 1.0}, best score: -0.123694009775\n",
      "   Updated parameters: {'colsample_bylevel': 0.9}, best score: -0.123694009775\n",
      "   Updated parameters: {'reg_alpha': 1.0}, best score: -0.123694009775\n",
      "   Updated parameters: {'reg_lambda': 10.0}, best score: -0.123694009775\n",
      "\n",
      "Fitting turbine 8...\n",
      "   Updated parameters: {'learning_rate': 0.1}, best score: -0.161826772333\n",
      "   Updated parameters: {'max_depth': 12}, best score: -0.157522616437\n",
      "   Updated parameters: {'subsample': 0.8}, best score: -0.151140375017\n",
      "   Updated parameters: {'colsample_bytree': 1.0}, best score: -0.151140375017\n",
      "   Updated parameters: {'colsample_bylevel': 0.9}, best score: -0.151140375017\n",
      "   Updated parameters: {'reg_alpha': 1.0}, best score: -0.151140375017\n",
      "   Updated parameters: {'reg_lambda': 10.0}, best score: -0.151140375017\n",
      "\n",
      "Fitting turbine 9...\n",
      "   Updated parameters: {'learning_rate': 0.1}, best score: -0.186157408628\n",
      "   Updated parameters: {'max_depth': 12}, best score: -0.182395463462\n",
      "   Updated parameters: {'subsample': 0.9}, best score: -0.179887743522\n",
      "   Updated parameters: {'colsample_bytree': 0.6}, best score: -0.179659088528\n",
      "   Updated parameters: {'colsample_bylevel': 0.9}, best score: -0.179659088528\n",
      "   Updated parameters: {'reg_alpha': 1.0}, best score: -0.179659088528\n",
      "   Updated parameters: {'reg_lambda': 10.0}, best score: -0.179659088528\n",
      "\n",
      "Fitting turbine 10...\n",
      "   Updated parameters: {'learning_rate': 0.1}, best score: -0.132715480786\n",
      "   Updated parameters: {'max_depth': 8}, best score: -0.131214966009\n",
      "   Updated parameters: {'subsample': 0.8}, best score: -0.130535086637\n",
      "   Updated parameters: {'colsample_bytree': 0.8}, best score: -0.130134624578\n",
      "   Updated parameters: {'colsample_bylevel': 1.0}, best score: -0.129948608739\n",
      "   Updated parameters: {'reg_alpha': 1.0}, best score: -0.129948608739\n",
      "   Updated parameters: {'reg_lambda': 10.0}, best score: -0.129948608739\n",
      "Extreme gradient boosting classifier model saved to fitted_models/xgbc_train_2017_04_04_01_54_32.model\n"
     ]
    }
   ],
   "source": [
    "'''\n",
    "Create separate models for each of the ten turbines, using cross-validation.\n",
    "'''\n",
    "\n",
    "defaults = {'objective': 'binary:logistic', 'n_estimators': 350, 'max_depth': 6, 'learning_rate': 0.1, \n",
    "            'subsample': 0.5, 'colsample_bytree': 1.0, 'colsample_bylevel': 0.9, \n",
    "            'reg_alpha': 1.0, 'reg_lambda': 10.0, \n",
    "            'seed': 0, 'nthread': -1, 'silent': True}\n",
    "\n",
    "searchGrids = [{'learning_rate': [0.1, 0.03, 0.01]}, \n",
    "               {'max_depth': [4, 6, 8, 10, 12]},\n",
    "               {'subsample': [0.4, 0.5, 0.6, 0.7, 0.8, 0.9, 1.0]},\n",
    "               {'colsample_bytree': [0.4, 0.5, 0.6, 0.7, 0.8, 0.9, 1.0]},\n",
    "               {'colsample_bylevel': [0.4, 0.5, 0.6, 0.7, 0.8, 0.9, 1.0]},\n",
    "               {'reg_alpha': [1.0E-05, 1.0E-04, 1.0E-03, 1.0E-02, 0.1, 1.0, 10.0, 100.0]},\n",
    "               {'reg_lambda': [0.01, 0.1, 1.0, 10.0, 100.0]}]\n",
    "                    \n",
    "nturbines      = 10\n",
    "settings       = [defaults.copy() for _ in xrange(nturbines)]\n",
    "xgbc_train_all = []\n",
    "kfold          = StratifiedKFold(n_splits=5, shuffle=True, random_state=5)\n",
    "\n",
    "for (target, setting, df_train_X, df_train_y) in zip(targets, settings, dfs_train_X, dfs_train_y):\n",
    "    print('\\nFitting turbine {0}...'.format(target[10:]))\n",
    "    for grid in searchGrids:\n",
    "        gSearch = GridSearchCV(estimator=XGBClassifier(**setting), param_grid=grid, \n",
    "                               scoring='neg_log_loss', n_jobs=-1, cv=kfold, refit=False)\n",
    "        gSearch.fit(df_train_X, df_train_y)\n",
    "        setting.update(gSearch.best_params_)\n",
    "        print('   Updated parameters: {0}, best score: {1}'.format(gSearch.best_params_, gSearch.best_score_))\n",
    "    xgb1 = XGBClassifier(**setting)\n",
    "    xgb1.fit(df_train_X, df_train_y, eval_metric=[\"logloss\"], verbose=False)\n",
    "    xgbc_train_all.append(xgb1)\n",
    "    \n",
    "# Save the models to disk.\n",
    "fName = 'xgbc_train_' + strftime(\"%Y_%m_%d_%H_%M_%S\")\n",
    "path_to_file = 'fitted_models/'+fName+'.model'\n",
    "joblib.dump(xgbc_train_all, path_to_file)\n",
    "print('Extreme gradient boosting classifier model saved to {0}'.format(path_to_file))"
   ]
  },
  {
   "cell_type": "markdown",
   "metadata": {},
   "source": [
    "<a id='Cell13'></a>"
   ]
  },
  {
   "cell_type": "code",
   "execution_count": 22,
   "metadata": {
    "scrolled": false
   },
   "outputs": [
    {
     "name": "stdout",
     "output_type": "stream",
     "text": [
      "Classifier model already exists, not updated from file!\n",
      "\n",
      "Regressor model successfully loaded from fitted_models/xgbr_train_2017_03_28_04_50_26.model\n",
      "\n",
      "Turbine 1:\n",
      "Classifier: XGBClassifier(base_score=0.5, colsample_bylevel=0.9, colsample_bytree=0.4,\n",
      "       gamma=0, learning_rate=0.1, max_delta_step=0, max_depth=12,\n",
      "       min_child_weight=1, missing=None, n_estimators=350, nthread=-1,\n",
      "       objective='binary:logistic', reg_alpha=0.0001, reg_lambda=10.0,\n",
      "       scale_pos_weight=1, seed=0, silent=True, subsample=0.7)\n",
      "Regressor: XGBRegressor(base_score=0.5, colsample_bylevel=0.8, colsample_bytree=1.0,\n",
      "       gamma=0, learning_rate=0.1, max_delta_step=0, max_depth=10,\n",
      "       min_child_weight=1, missing=nan, n_estimators=500, nthread=-1,\n",
      "       objective='reg:linear', reg_alpha=0.1, reg_lambda=10.0,\n",
      "       scale_pos_weight=1, seed=0, silent=True, subsample=0.6)\n",
      "\n",
      "Turbine 2:\n",
      "Classifier: XGBClassifier(base_score=0.5, colsample_bylevel=0.9, colsample_bytree=1.0,\n",
      "       gamma=0, learning_rate=0.1, max_delta_step=0, max_depth=12,\n",
      "       min_child_weight=1, missing=None, n_estimators=350, nthread=-1,\n",
      "       objective='binary:logistic', reg_alpha=1.0, reg_lambda=10.0,\n",
      "       scale_pos_weight=1, seed=0, silent=True, subsample=0.9)\n",
      "Regressor: XGBRegressor(base_score=0.5, colsample_bylevel=0.8, colsample_bytree=0.8,\n",
      "       gamma=0, learning_rate=0.1, max_delta_step=0, max_depth=10,\n",
      "       min_child_weight=1, missing=nan, n_estimators=500, nthread=-1,\n",
      "       objective='reg:linear', reg_alpha=0.1, reg_lambda=10.0,\n",
      "       scale_pos_weight=1, seed=0, silent=True, subsample=0.6)\n",
      "\n",
      "Turbine 3:\n",
      "Classifier: XGBClassifier(base_score=0.5, colsample_bylevel=0.9, colsample_bytree=0.8,\n",
      "       gamma=0, learning_rate=0.1, max_delta_step=0, max_depth=8,\n",
      "       min_child_weight=1, missing=None, n_estimators=350, nthread=-1,\n",
      "       objective='binary:logistic', reg_alpha=1.0, reg_lambda=10.0,\n",
      "       scale_pos_weight=1, seed=0, silent=True, subsample=0.8)\n",
      "Regressor: XGBRegressor(base_score=0.5, colsample_bylevel=0.6, colsample_bytree=0.8,\n",
      "       gamma=0, learning_rate=0.1, max_delta_step=0, max_depth=10,\n",
      "       min_child_weight=1, missing=nan, n_estimators=500, nthread=-1,\n",
      "       objective='reg:linear', reg_alpha=0.1, reg_lambda=10.0,\n",
      "       scale_pos_weight=1, seed=0, silent=True, subsample=0.7)\n",
      "\n",
      "Turbine 4:\n",
      "Classifier: XGBClassifier(base_score=0.5, colsample_bylevel=0.9, colsample_bytree=0.5,\n",
      "       gamma=0, learning_rate=0.1, max_delta_step=0, max_depth=10,\n",
      "       min_child_weight=1, missing=None, n_estimators=350, nthread=-1,\n",
      "       objective='binary:logistic', reg_alpha=1.0, reg_lambda=10.0,\n",
      "       scale_pos_weight=1, seed=0, silent=True, subsample=0.6)\n",
      "Regressor: XGBRegressor(base_score=0.5, colsample_bylevel=0.5, colsample_bytree=1.0,\n",
      "       gamma=0, learning_rate=0.1, max_delta_step=0, max_depth=8,\n",
      "       min_child_weight=1, missing=nan, n_estimators=500, nthread=-1,\n",
      "       objective='reg:linear', reg_alpha=0.1, reg_lambda=10.0,\n",
      "       scale_pos_weight=1, seed=0, silent=True, subsample=0.7)\n",
      "\n",
      "Turbine 5:\n",
      "Classifier: XGBClassifier(base_score=0.5, colsample_bylevel=0.9, colsample_bytree=0.4,\n",
      "       gamma=0, learning_rate=0.1, max_delta_step=0, max_depth=10,\n",
      "       min_child_weight=1, missing=None, n_estimators=350, nthread=-1,\n",
      "       objective='binary:logistic', reg_alpha=1.0, reg_lambda=10.0,\n",
      "       scale_pos_weight=1, seed=0, silent=True, subsample=1.0)\n",
      "Regressor: XGBRegressor(base_score=0.5, colsample_bylevel=0.4, colsample_bytree=1.0,\n",
      "       gamma=0, learning_rate=0.1, max_delta_step=0, max_depth=10,\n",
      "       min_child_weight=1, missing=nan, n_estimators=500, nthread=-1,\n",
      "       objective='reg:linear', reg_alpha=0.1, reg_lambda=10.0,\n",
      "       scale_pos_weight=1, seed=0, silent=True, subsample=0.7)\n",
      "\n",
      "Turbine 6:\n",
      "Classifier: XGBClassifier(base_score=0.5, colsample_bylevel=0.9, colsample_bytree=0.8,\n",
      "       gamma=0, learning_rate=0.1, max_delta_step=0, max_depth=8,\n",
      "       min_child_weight=1, missing=None, n_estimators=350, nthread=-1,\n",
      "       objective='binary:logistic', reg_alpha=1.0, reg_lambda=10.0,\n",
      "       scale_pos_weight=1, seed=0, silent=True, subsample=0.8)\n",
      "Regressor: XGBRegressor(base_score=0.5, colsample_bylevel=0.8, colsample_bytree=1.0,\n",
      "       gamma=0, learning_rate=0.1, max_delta_step=0, max_depth=10,\n",
      "       min_child_weight=1, missing=nan, n_estimators=500, nthread=-1,\n",
      "       objective='reg:linear', reg_alpha=0.1, reg_lambda=10.0,\n",
      "       scale_pos_weight=1, seed=0, silent=True, subsample=0.6)\n",
      "\n",
      "Turbine 7:\n",
      "Classifier: XGBClassifier(base_score=0.5, colsample_bylevel=0.9, colsample_bytree=1.0,\n",
      "       gamma=0, learning_rate=0.1, max_delta_step=0, max_depth=10,\n",
      "       min_child_weight=1, missing=None, n_estimators=350, nthread=-1,\n",
      "       objective='binary:logistic', reg_alpha=1.0, reg_lambda=10.0,\n",
      "       scale_pos_weight=1, seed=0, silent=True, subsample=0.6)\n",
      "Regressor: XGBRegressor(base_score=0.5, colsample_bylevel=0.8, colsample_bytree=0.9,\n",
      "       gamma=0, learning_rate=0.1, max_delta_step=0, max_depth=10,\n",
      "       min_child_weight=1, missing=nan, n_estimators=500, nthread=-1,\n",
      "       objective='reg:linear', reg_alpha=0.1, reg_lambda=10.0,\n",
      "       scale_pos_weight=1, seed=0, silent=True, subsample=0.6)\n",
      "\n",
      "Turbine 8:\n",
      "Classifier: XGBClassifier(base_score=0.5, colsample_bylevel=0.9, colsample_bytree=1.0,\n",
      "       gamma=0, learning_rate=0.1, max_delta_step=0, max_depth=12,\n",
      "       min_child_weight=1, missing=None, n_estimators=350, nthread=-1,\n",
      "       objective='binary:logistic', reg_alpha=1.0, reg_lambda=10.0,\n",
      "       scale_pos_weight=1, seed=0, silent=True, subsample=0.8)\n",
      "Regressor: XGBRegressor(base_score=0.5, colsample_bylevel=1.0, colsample_bytree=1.0,\n",
      "       gamma=0, learning_rate=0.1, max_delta_step=0, max_depth=10,\n",
      "       min_child_weight=1, missing=nan, n_estimators=500, nthread=-1,\n",
      "       objective='reg:linear', reg_alpha=0.1, reg_lambda=10.0,\n",
      "       scale_pos_weight=1, seed=0, silent=True, subsample=0.7)\n",
      "\n",
      "Turbine 9:\n",
      "Classifier: XGBClassifier(base_score=0.5, colsample_bylevel=0.9, colsample_bytree=0.6,\n",
      "       gamma=0, learning_rate=0.1, max_delta_step=0, max_depth=12,\n",
      "       min_child_weight=1, missing=None, n_estimators=350, nthread=-1,\n",
      "       objective='binary:logistic', reg_alpha=1.0, reg_lambda=10.0,\n",
      "       scale_pos_weight=1, seed=0, silent=True, subsample=0.9)\n",
      "Regressor: XGBRegressor(base_score=0.5, colsample_bylevel=0.8, colsample_bytree=1.0,\n",
      "       gamma=0, learning_rate=0.1, max_delta_step=0, max_depth=10,\n",
      "       min_child_weight=1, missing=nan, n_estimators=500, nthread=-1,\n",
      "       objective='reg:linear', reg_alpha=0.1, reg_lambda=10.0,\n",
      "       scale_pos_weight=1, seed=0, silent=True, subsample=0.7)\n",
      "\n",
      "Turbine 10:\n",
      "Classifier: XGBClassifier(base_score=0.5, colsample_bylevel=1.0, colsample_bytree=0.8,\n",
      "       gamma=0, learning_rate=0.1, max_delta_step=0, max_depth=8,\n",
      "       min_child_weight=1, missing=None, n_estimators=350, nthread=-1,\n",
      "       objective='binary:logistic', reg_alpha=1.0, reg_lambda=10.0,\n",
      "       scale_pos_weight=1, seed=0, silent=True, subsample=0.8)\n",
      "Regressor: XGBRegressor(base_score=0.5, colsample_bylevel=1.0, colsample_bytree=1.0,\n",
      "       gamma=0, learning_rate=0.1, max_delta_step=0, max_depth=10,\n",
      "       min_child_weight=1, missing=nan, n_estimators=500, nthread=-1,\n",
      "       objective='reg:linear', reg_alpha=0.1, reg_lambda=10.0,\n",
      "       scale_pos_weight=1, seed=0, silent=True, subsample=0.6)\n",
      "\n"
     ]
    }
   ],
   "source": [
    "'''\n",
    "Retrieve from disk models that were trained on the training subsample only. \n",
    "We'll need both a regressor model and a classifier model.\n",
    "'''\n",
    "\n",
    "xgbr_found = True\n",
    "xgbc_found = True\n",
    "\n",
    "try:\n",
    "    xgbc_train_all\n",
    "except:\n",
    "    fName = 'xgbc_train_2017_04_04_01_54_32'\n",
    "    path_to_file = 'fitted_models/'+fName+'.model'\n",
    "    try:\n",
    "        xgbc_train_all = joblib.load(path_to_file) \n",
    "    except:\n",
    "        print('Error loading classifier model from {0}\\n'.format(path_to_file))\n",
    "        xgbc_found = False\n",
    "    else:\n",
    "        print('Classifier model successfully loaded from {0}\\n'.format(path_to_file))    \n",
    "else:    \n",
    "    print('Classifier model already exists, not updated from file!\\n')\n",
    "\n",
    "try:\n",
    "    xgbr_train_all\n",
    "except:\n",
    "    fName = 'xgbr_train_2017_03_28_04_50_26'\n",
    "    path_to_file = 'fitted_models/'+fName+'.model'\n",
    "    try:\n",
    "        xgbr_train_all = joblib.load(path_to_file)\n",
    "    except:\n",
    "        print('Error loading regressor model from {0}\\n'.format(path_to_file))\n",
    "        xgbr_found = False\n",
    "    else:\n",
    "        print('Regressor model successfully loaded from {0}\\n'.format(path_to_file))    \n",
    "else:    \n",
    "    print('Regressor model already exists, not updated from file!\\n')\n",
    "\n",
    "if xgbr_found and xgbc_found:\n",
    "    for ind, (xgbc, xgbr) in enumerate(zip(xgbc_train_all, xgbr_train_all)):\n",
    "        print('Turbine {0}:\\nClassifier: {1}\\nRegressor: {2}\\n'.format(ind+1, xgbc, xgbr))\n",
    "elif xgbr_found:\n",
    "    for ind, xgbr in enumerate(xgbr_train_all):\n",
    "        print('Turbine {0}:\\nRegressor: {1}\\n'.format(ind+1, xgbr))\n",
    "elif xgbc_found:\n",
    "    for ind, xgbc in enumerate(xgbc_train_all):\n",
    "        print('Turbine {0}:\\nClassifier: {1}\\n'.format(ind+1, xgbc))"
   ]
  },
  {
   "cell_type": "markdown",
   "metadata": {},
   "source": [
    "<a id='Cell14'></a>"
   ]
  },
  {
   "cell_type": "code",
   "execution_count": 15,
   "metadata": {
    "scrolled": false
   },
   "outputs": [
    {
     "name": "stdout",
     "output_type": "stream",
     "text": [
      "\n",
      "Model Report for Turbine 1\n",
      "On training set: Accuracy: 0.9997, Benchmark: 0.9004\n",
      "                 Confusion Matrix: tn=9004, fp=0, fn=3, tp=993\n",
      "On testing set:  Accuracy: 0.95065874451, Benchmark: 0.900542495479\n",
      "                 Confusion Matrix: tn=3447, fp=39, fn=152, tp=233\n",
      "\n",
      "Model Report for Turbine 2\n",
      "On training set: Accuracy: 0.9998, Benchmark: 0.9757\n",
      "                 Confusion Matrix: tn=9757, fp=0, fn=2, tp=241\n",
      "On testing set:  Accuracy: 0.983208473263, Benchmark: 0.975716869026\n",
      "                 Confusion Matrix: tn=3771, fp=6, fn=59, tp=35\n",
      "\n",
      "Model Report for Turbine 3\n",
      "On training set: Accuracy: 0.9996, Benchmark: 0.9361\n",
      "                 Confusion Matrix: tn=9361, fp=0, fn=4, tp=635\n",
      "On testing set:  Accuracy: 0.9640919659, Benchmark: 0.936192198398\n",
      "                 Confusion Matrix: tn=3594, fp=30, fn=109, tp=138\n",
      "\n",
      "Model Report for Turbine 4\n",
      "On training set: Accuracy: 0.9981, Benchmark: 0.9547\n",
      "                 Confusion Matrix: tn=9547, fp=0, fn=19, tp=434\n",
      "On testing set:  Accuracy: 0.971583570137, Benchmark: 0.9547920434\n",
      "                 Confusion Matrix: tn=3693, fp=3, fn=107, tp=68\n",
      "\n",
      "Model Report for Turbine 5\n",
      "On training set: Accuracy: 1.0, Benchmark: 0.9202\n",
      "                 Confusion Matrix: tn=9202, fp=0, fn=0, tp=798\n",
      "On testing set:  Accuracy: 0.956600361664, Benchmark: 0.920175665203\n",
      "                 Confusion Matrix: tn=3527, fp=35, fn=133, tp=176\n",
      "\n",
      "Model Report for Turbine 6\n",
      "On training set: Accuracy: 0.9997, Benchmark: 0.92\n",
      "                 Confusion Matrix: tn=9200, fp=0, fn=3, tp=797\n",
      "On testing set:  Accuracy: 0.949108757427, Benchmark: 0.919917334022\n",
      "                 Confusion Matrix: tn=3497, fp=64, fn=133, tp=177\n",
      "\n",
      "Model Report for Turbine 7\n",
      "On training set: Accuracy: 0.9987, Benchmark: 0.9119\n",
      "                 Confusion Matrix: tn=9119, fp=0, fn=13, tp=868\n",
      "On testing set:  Accuracy: 0.951433738052, Benchmark: 0.911909067424\n",
      "                 Confusion Matrix: tn=3473, fp=57, fn=131, tp=210\n",
      "\n",
      "Model Report for Turbine 8\n",
      "On training set: Accuracy: 0.9998, Benchmark: 0.8874\n",
      "                 Confusion Matrix: tn=8874, fp=0, fn=2, tp=1124\n",
      "On testing set:  Accuracy: 0.952208731594, Benchmark: 0.88736760527\n",
      "                 Confusion Matrix: tn=3398, fp=37, fn=148, tp=288\n",
      "\n",
      "Model Report for Turbine 9\n",
      "On training set: Accuracy: 0.9998, Benchmark: 0.8298\n",
      "                 Confusion Matrix: tn=8298, fp=0, fn=2, tp=1700\n",
      "On testing set:  Accuracy: 0.939808834926, Benchmark: 0.829759752002\n",
      "                 Confusion Matrix: tn=3133, fp=79, fn=154, tp=505\n",
      "\n",
      "Model Report for Turbine 10\n",
      "On training set: Accuracy: 0.9996, Benchmark: 0.9178\n",
      "                 Confusion Matrix: tn=9178, fp=0, fn=4, tp=818\n",
      "On testing set:  Accuracy: 0.956342030483, Benchmark: 0.917850684578\n",
      "                 Confusion Matrix: tn=3515, fp=38, fn=131, tp=187\n",
      "\n",
      "Average accuracy on training set: 0.99948, benchmark: 0.9154\n",
      "Average accuracy on testing set:  0.957504520796, benchmark: 0.91542237148\n"
     ]
    }
   ],
   "source": [
    "'''\n",
    "Test the fitted models on the testing subset.\n",
    "'''\n",
    "\n",
    "Nturbines   = len(xgbc_train_all)\n",
    "Acc_Train   = []\n",
    "Acc_Test    = []\n",
    "Acc0_Train  = []\n",
    "Acc0_Test   = []\n",
    "Train_Total = len(df_train_X)\n",
    "Test_Total  = len(df_test_X)\n",
    "\n",
    "for ind, (xgb, df_train_X, df_train_y, df_test_X, df_test_y) \\\n",
    "in enumerate(zip(xgbc_train_all, dfs_train_X, dfs_train_y, dfs_test_X, dfs_test_y)):\n",
    "    \n",
    "    target = 'TARGETVAR_'+str(ind+1)\n",
    "    \n",
    "    # Predict training set and testing set\n",
    "    df_train_ypred = xgb.predict(df_train_X)\n",
    "    df_test_ypred  = xgb.predict(df_test_X)\n",
    "    \n",
    "    # Compute performance measures\n",
    "    Acc_Train.append(accuracy_score(df_train_y, df_train_ypred))\n",
    "    Acc_Test.append(accuracy_score(df_test_y, df_test_ypred))\n",
    "    CM_Train  = confusion_matrix(df_train_y, df_train_ypred)\n",
    "    CM_Test   = confusion_matrix(df_test_y, df_test_ypred)\n",
    "    A0_Train  = float(CM_Train[1][1]+CM_Train[1][0])/Train_Total\n",
    "    A0_Train  = max(A0_Train, 1.0-A0_Train)\n",
    "    A0_Test   = float(CM_Test[1][1]+CM_Test[1][0])/Test_Total\n",
    "    A0_Test   = max(A0_Test, 1.0-A0_Test)\n",
    "    Acc0_Train.append(A0_Train)\n",
    "    Acc0_Test.append(A0_Test)\n",
    "    \n",
    "    # Print model report\n",
    "    print('\\nModel Report for Turbine {0}'.format(ind+1))\n",
    "    print('On training set: Accuracy: {0}, Benchmark: {1}'.format(Acc_Train[-1], Acc0_Train[-1]))\n",
    "    print('                 Confusion Matrix: tn={0}, fp={1}, fn={2}, tp={3}'\\\n",
    "          .format(CM_Train[0][0], CM_Train[0][1], CM_Train[1][0], CM_Train[1][1]))\n",
    "    print('On testing set:  Accuracy: {0}, Benchmark: {1}'.format(Acc_Test[-1], Acc0_Test[-1]))\n",
    "    print('                 Confusion Matrix: tn={0}, fp={1}, fn={2}, tp={3}'\\\n",
    "          .format(CM_Test[0][0], CM_Test[0][1], CM_Test[1][0], CM_Test[1][1]))\n",
    "\n",
    "print('\\nAverage accuracy on training set: {0}, benchmark: {1}'\\\n",
    "      .format(np.array(Acc_Train).mean(), np.array(Acc0_Train).mean()))\n",
    "print('Average accuracy on testing set:  {0}, benchmark: {1}'\\\n",
    "      .format(np.array(Acc_Test).mean(), np.array(Acc0_Test).mean()))"
   ]
  },
  {
   "cell_type": "markdown",
   "metadata": {},
   "source": [
    "<a id='Cell15'></a>"
   ]
  },
  {
   "cell_type": "code",
   "execution_count": 16,
   "metadata": {},
   "outputs": [
    {
     "data": {
      "image/png": "[encoded data removed]",
      "text/plain": [
       "<matplotlib.figure.Figure at 0x110867350>"
      ]
     },
     "metadata": {},
     "output_type": "display_data"
    }
   ],
   "source": [
    "'''\n",
    "Plot feature importances averaged over all turbines.\n",
    "'''\n",
    "%matplotlib inline\n",
    "all_feat_imp = []\n",
    "for xgb in xgbc_train_all:\n",
    "    all_feat_imp.append(xgb.booster().get_score(importance_type='weight'))\n",
    "all_feat_imp_df = pd.DataFrame(all_feat_imp)\n",
    "feat_imp        = all_feat_imp_df.mean().sort_values(ascending=False)\n",
    "n_features      = min(50,len(feat_imp))\n",
    "bins            = np.arange(n_features)\n",
    "x_labels        = feat_imp.index.values[:n_features]\n",
    "y_values        = feat_imp.values[:n_features]\n",
    "maxHeight       = 1.10*max(y_values)\n",
    "\n",
    "fig, axes  = plt.subplots(nrows=1, ncols=1, figsize=(20, 7))\n",
    "axes.bar(bins, y_values, align=\"center\", color=\"lightblue\", edgecolor=\"k\", alpha=0.5)\n",
    "axes.set_xticks(bins)\n",
    "axes.set_xticklabels(x_labels, ha=\"right\", rotation=45., fontsize=14)\n",
    "axes.set_xlim([-0.5,bins.size-0.5])\n",
    "if len(feat_imp) <= 50:\n",
    "    axes.set_xlabel('Features'.format(n_features), fontsize=20)\n",
    "else:\n",
    "    axes.set_xlabel('Top {0} Features'.format(n_features), fontsize=20)\n",
    "axes.set_ylim([0.0, maxHeight])\n",
    "axes.set_ylabel('Average Feature Importance', fontsize=20)\n",
    "plt.show()\n",
    "#fig.savefig(save, dpi=200, bbox_inches='tight')"
   ]
  },
  {
   "cell_type": "markdown",
   "metadata": {},
   "source": [
    "<a id='Cell16'></a>"
   ]
  },
  {
   "cell_type": "code",
   "execution_count": 23,
   "metadata": {},
   "outputs": [
    {
     "name": "stdout",
     "output_type": "stream",
     "text": [
      "            Cp:Rn  Cn:Rp  Cp:Rp  Cn:Rn\n",
      "            --------------------------\n",
      "\n",
      "Turbine  1:  129     25    104    127 |  385\n",
      "              36      4      3   3443 | 3486\n",
      "            --------------------------|-----\n",
      "             165     29    107   3570 | 3871\n",
      "              Cp     Rp     Ap     An\n",
      "\n",
      "Turbine  2:   20     14     15     45 |   94\n",
      "               1     10      5   3761 | 3777\n",
      "            --------------------------|-----\n",
      "              21     24     20   3806 | 3871\n",
      "              Cp     Rp     Ap     An\n",
      "\n",
      "Turbine  3:   84     17     54     92 |  247\n",
      "              27      9      3   3585 | 3624\n",
      "            --------------------------|-----\n",
      "             111     26     57   3677 | 3871\n",
      "              Cp     Rp     Ap     An\n",
      "\n",
      "Turbine  4:   41     30     27     77 |  175\n",
      "               2     68      1   3625 | 3696\n",
      "            --------------------------|-----\n",
      "              43     98     28   3702 | 3871\n",
      "              Cp     Cn     Ap     An\n",
      "\n",
      "Turbine  5:   94     33     82    100 |  309\n",
      "              27     11      8   3516 | 3562\n",
      "            --------------------------|-----\n",
      "             121     44     90   3616 | 3871\n",
      "              Cp     Rp     Ap     An\n",
      "\n",
      "Turbine  6:   85     34     92     99 |  310\n",
      "              57     10      7   3487 | 3561\n",
      "            --------------------------|-----\n",
      "             142     44     99   3586 | 3871\n",
      "              Cp     Rp     Ap     An\n",
      "\n",
      "Turbine  7:  126     22     84    109 |  341\n",
      "              52      9      5   3464 | 3530\n",
      "            --------------------------|-----\n",
      "             178     31     89   3573 | 3871\n",
      "              Cp     Rp     Ap     An\n",
      "\n",
      "Turbine  8:  169     34    119    114 |  436\n",
      "              32      4      5   3394 | 3435\n",
      "            --------------------------|-----\n",
      "             201     38    124   3508 | 3871\n",
      "              Cp     Rp     Ap     An\n",
      "\n",
      "Turbine  9:  251     43    254    111 |  659\n",
      "              63     21     16   3112 | 3212\n",
      "            --------------------------|-----\n",
      "             314     64    270   3223 | 3871\n",
      "              Cp     Rp     Ap     An\n",
      "\n",
      "Turbine 10:  105     38     82     93 |  318\n",
      "              31     13      7   3502 | 3553\n",
      "            --------------------------|-----\n",
      "             136     51     89   3595 | 3871\n",
      "              Cp     Rp     Ap     An\n"
     ]
    }
   ],
   "source": [
    "'''\n",
    "Compare xgbc and xgbr on their ability to identify zero turbine output events in the test set.\n",
    "'''\n",
    "pos = 1\n",
    "neg = 1-pos\n",
    "print('            Cp:Rn  Cn:Rp  Cp:Rp  Cn:Rn\\n            --------------------------')\n",
    "for ind, (xgbr, xgbc, df_test_X, df_test_y) \\\n",
    "in enumerate(zip(xgbr_train_all, xgbc_train_all, dfs_test_X, dfs_test_y)):\n",
    "    df_test_ypredr  = [pos if x<=0 else 1-pos for x in xgbr.predict(df_test_X)]\n",
    "    df_test_ypredc  = xgbc.predict(df_test_X)\n",
    "    Nppp = [y==pos and yc==pos and yr==pos for (y,yc,yr) in zip(df_test_y,df_test_ypredc,df_test_ypredr)].count(True)\n",
    "    Nppn = [y==pos and yc==pos and yr==neg for (y,yc,yr) in zip(df_test_y,df_test_ypredc,df_test_ypredr)].count(True)\n",
    "    Npnp = [y==pos and yc==neg and yr==pos for (y,yc,yr) in zip(df_test_y,df_test_ypredc,df_test_ypredr)].count(True)\n",
    "    Npnn = [y==pos and yc==neg and yr==neg for (y,yc,yr) in zip(df_test_y,df_test_ypredc,df_test_ypredr)].count(True)\n",
    "    Np   = Nppp + Nppn + Npnp + Npnn\n",
    "    Nnnn = [y==neg and yc==neg and yr==neg for (y,yc,yr) in zip(df_test_y,df_test_ypredc,df_test_ypredr)].count(True)\n",
    "    Nnnp = [y==neg and yc==neg and yr==pos for (y,yc,yr) in zip(df_test_y,df_test_ypredc,df_test_ypredr)].count(True)\n",
    "    Nnpn = [y==neg and yc==pos and yr==neg for (y,yc,yr) in zip(df_test_y,df_test_ypredc,df_test_ypredr)].count(True)\n",
    "    Nnpp = [y==neg and yc==pos and yr==pos for (y,yc,yr) in zip(df_test_y,df_test_ypredc,df_test_ypredr)].count(True)\n",
    "    Nn   = Nnnn + Nnnp + Nnpn + Nnpp\n",
    "    Na   = Np + Nn\n",
    "    print('\\nTurbine {0:2d}: {1:4d}   {2:4d}   {3:4d}   {4:4d} | {5:4d}'.format(ind+1, Nppn, Npnp, Nppp, Npnn, Np))\n",
    "    print('            {0:4d}   {1:4d}   {2:4d}   {3:4d} | {4:4d}'.format(Nnpn, Nnnp, Nnpp, Nnnn, Nn))\n",
    "    print('            --------------------------|-----')\n",
    "    print('            {0:4d}   {1:4d}   {2:4d}   {3:4d} | {4:4d}'.format(Nppn+Nnpn,Npnp+Nnnp,Nppp+Nnpp,Npnn+Nnnn,Na))\n",
    "    CpRn = 'Cp'\n",
    "    CnRp = 'Rp'\n",
    "    CpRp = 'Ap'\n",
    "    CnRn = 'An'\n",
    "    if Nppn < Nnpn: CpRn = 'Rn'\n",
    "    if Npnp < Nnnp: CnRp = 'Cn'\n",
    "    if Nppp < Nnpp: CpRp = 'On'\n",
    "    if Npnn > Nnnn: CnRn = 'Op'\n",
    "    print('              {0}     {1}     {2}     {3}'.format(CpRn,CnRp,CpRp,CnRn))"
   ]
  },
  {
   "cell_type": "markdown",
   "metadata": {},
   "source": [
    "<a id='Cell17'></a>"
   ]
  },
  {
   "cell_type": "code",
   "execution_count": 24,
   "metadata": {},
   "outputs": [
    {
     "name": "stdout",
     "output_type": "stream",
     "text": [
      "Turbine  1 RMSE: 0.0464933454963 (uncorrected), 0.0464942565398 (corrected)\n",
      "Turbine  2 RMSE: 0.0472321521015 (uncorrected), 0.0472120810949 (corrected)\n",
      "Turbine  3 RMSE: 0.0529656718547 (uncorrected), 0.0529353834238 (corrected)\n",
      "Turbine  4 RMSE: 0.0595246715409 (uncorrected), 0.05951043546 (corrected)\n",
      "Turbine  5 RMSE: 0.0570910558318 (uncorrected), 0.0570694040351 (corrected)\n",
      "Turbine  6 RMSE: 0.0575522882295 (uncorrected), 0.0575346198916 (corrected)\n",
      "Turbine  7 RMSE: 0.0443942354211 (uncorrected), 0.0443923532497 (corrected)\n",
      "Turbine  8 RMSE: 0.0579820875623 (uncorrected), 0.0579552572462 (corrected)\n",
      "Turbine  9 RMSE: 0.0527395550625 (uncorrected), 0.0526687519577 (corrected)\n",
      "Turbine 10 RMSE: 0.0646707177136 (uncorrected), 0.0646944715124 (corrected)\n",
      "\n",
      "Total RMSE: 0.0544143766257 (uncorrected), 0.0543970197244 (corrected)\n"
     ]
    }
   ],
   "source": [
    "'''\n",
    "Compute RMSE on test set, with and without the classifier correction, and compare.\n",
    "'''\n",
    "Nturbines       = len(xgbc_train_all)\n",
    "MSE_Test1_Total = 0.0\n",
    "MSE_Test2_Total = 0.0\n",
    "\n",
    "for ind, (xgbr, xgbc, df_test_X, df_test_yt) \\\n",
    "in enumerate(zip(xgbr_train_all, xgbc_train_all, dfs_test_X, dfs_test_yt)):\n",
    "    df_test_ypredr  = [min(max(x,0.0),1.0) for x in xgbr.predict(df_test_X)]\n",
    "    df_test_ypredc  = xgbc.predict(df_test_X)\n",
    "    df_test_ypredrc = [0 if (c==pos and r<0.05) else r for (r,c) in zip(df_test_ypredr, df_test_ypredc)]\n",
    "\n",
    "    MSE_Test1       = mean_squared_error(df_test_yt, df_test_ypredr)\n",
    "    MSE_Test2       = mean_squared_error(df_test_yt, df_test_ypredrc)\n",
    "    MSE_Test1_Total += MSE_Test1\n",
    "    MSE_Test2_Total += MSE_Test2\n",
    "    print('Turbine {0:2d} RMSE: {1} (uncorrected), {2} (corrected)'\\\n",
    "          .format(ind+1, np.sqrt(MSE_Test1), np.sqrt(MSE_Test2)))\n",
    "          \n",
    "RMSE1 = np.sqrt(MSE_Test1_Total/Nturbines)\n",
    "RMSE2 = np.sqrt(MSE_Test2_Total/Nturbines)\n",
    "print('\\nTotal RMSE: {0} (uncorrected), {1} (corrected)'.format(RMSE1, RMSE2))"
   ]
  },
  {
   "cell_type": "markdown",
   "metadata": {},
   "source": [
    "## Refit model to entire training data set and create solution file."
   ]
  },
  {
   "cell_type": "markdown",
   "metadata": {},
   "source": [
    "<a id='Cell18'></a>"
   ]
  },
  {
   "cell_type": "code",
   "execution_count": 25,
   "metadata": {
    "scrolled": false
   },
   "outputs": [
    {
     "name": "stdout",
     "output_type": "stream",
     "text": [
      "CPU times: user 21.1 s, sys: 134 ms, total: 21.2 s\n",
      "Wall time: 21.5 s\n",
      "CPU times: user 39.7 s, sys: 567 ms, total: 40.2 s\n",
      "Wall time: 43 s\n",
      "CPU times: user 32.9 s, sys: 242 ms, total: 33.1 s\n",
      "Wall time: 33.7 s\n",
      "CPU times: user 19.6 s, sys: 96.1 ms, total: 19.7 s\n",
      "Wall time: 20.1 s\n",
      "CPU times: user 22.2 s, sys: 104 ms, total: 22.3 s\n",
      "Wall time: 22.5 s\n",
      "CPU times: user 34.4 s, sys: 157 ms, total: 34.5 s\n",
      "Wall time: 35.3 s\n",
      "CPU times: user 41.3 s, sys: 189 ms, total: 41.4 s\n",
      "Wall time: 41.7 s\n",
      "CPU times: user 57.1 s, sys: 229 ms, total: 57.4 s\n",
      "Wall time: 57.7 s\n",
      "CPU times: user 38.3 s, sys: 380 ms, total: 38.7 s\n",
      "Wall time: 40.4 s\n",
      "CPU times: user 37.5 s, sys: 499 ms, total: 38 s\n",
      "Wall time: 39.8 s\n",
      "\n",
      "Extreme gradient boosting classifier model saved to fitted_models/xgbc_2017_04_04_02_17_20.model\n"
     ]
    }
   ],
   "source": [
    "'''\n",
    "Refit model with final settings to entire training data set and save fitted model to disk.\n",
    "'''\n",
    "xgbc_all = []\n",
    "for target, setting in zip(targets, settings):\n",
    "    xgbc = XGBClassifier(**setting)\n",
    "    %time xgbc.fit(df0[predictors], df0[target], eval_metric=[\"logloss\"], verbose=False)\n",
    "    xgbc_all.append(xgbc)\n",
    "    \n",
    "fName = 'xgbc_' + strftime(\"%Y_%m_%d_%H_%M_%S\")\n",
    "path_to_file = 'fitted_models/'+fName+'.model'\n",
    "joblib.dump(xgbc_all, path_to_file)\n",
    "print('\\nExtreme gradient boosting classifier model saved to {0}'.format(path_to_file))"
   ]
  },
  {
   "cell_type": "markdown",
   "metadata": {},
   "source": [
    "<a id='Cell19'></a>"
   ]
  },
  {
   "cell_type": "code",
   "execution_count": 2,
   "metadata": {
    "scrolled": false
   },
   "outputs": [
    {
     "name": "stdout",
     "output_type": "stream",
     "text": [
      "Classifier model successfully loaded from fitted_models/xgbc_2017_04_04_02_17_20.model\n",
      "\n",
      "Regressor model successfully loaded from fitted_models/xgbr_2017_03_28_07_24_58.model\n",
      "\n",
      "Turbine 1:\n",
      "Classifier: XGBClassifier(base_score=0.5, colsample_bylevel=0.9, colsample_bytree=0.4,\n",
      "       gamma=0, learning_rate=0.1, max_delta_step=0, max_depth=12,\n",
      "       min_child_weight=1, missing=nan, n_estimators=350, nthread=-1,\n",
      "       objective='binary:logistic', reg_alpha=0.0001, reg_lambda=10.0,\n",
      "       scale_pos_weight=1, seed=0, silent=True, subsample=0.7)\n",
      "Regressor: XGBRegressor(base_score=0.5, colsample_bylevel=0.8, colsample_bytree=1.0,\n",
      "       gamma=0, learning_rate=0.1, max_delta_step=0, max_depth=10,\n",
      "       min_child_weight=1, missing=nan, n_estimators=500, nthread=-1,\n",
      "       objective='reg:linear', reg_alpha=0.1, reg_lambda=10.0,\n",
      "       scale_pos_weight=1, seed=0, silent=True, subsample=0.6)\n",
      "\n",
      "Turbine 2:\n",
      "Classifier: XGBClassifier(base_score=0.5, colsample_bylevel=0.9, colsample_bytree=1.0,\n",
      "       gamma=0, learning_rate=0.1, max_delta_step=0, max_depth=12,\n",
      "       min_child_weight=1, missing=nan, n_estimators=350, nthread=-1,\n",
      "       objective='binary:logistic', reg_alpha=1.0, reg_lambda=10.0,\n",
      "       scale_pos_weight=1, seed=0, silent=True, subsample=0.9)\n",
      "Regressor: XGBRegressor(base_score=0.5, colsample_bylevel=0.8, colsample_bytree=0.8,\n",
      "       gamma=0, learning_rate=0.1, max_delta_step=0, max_depth=10,\n",
      "       min_child_weight=1, missing=nan, n_estimators=500, nthread=-1,\n",
      "       objective='reg:linear', reg_alpha=0.1, reg_lambda=10.0,\n",
      "       scale_pos_weight=1, seed=0, silent=True, subsample=0.6)\n",
      "\n",
      "Turbine 3:\n",
      "Classifier: XGBClassifier(base_score=0.5, colsample_bylevel=0.9, colsample_bytree=0.8,\n",
      "       gamma=0, learning_rate=0.1, max_delta_step=0, max_depth=8,\n",
      "       min_child_weight=1, missing=nan, n_estimators=350, nthread=-1,\n",
      "       objective='binary:logistic', reg_alpha=1.0, reg_lambda=10.0,\n",
      "       scale_pos_weight=1, seed=0, silent=True, subsample=0.8)\n",
      "Regressor: XGBRegressor(base_score=0.5, colsample_bylevel=0.6, colsample_bytree=0.8,\n",
      "       gamma=0, learning_rate=0.1, max_delta_step=0, max_depth=10,\n",
      "       min_child_weight=1, missing=nan, n_estimators=500, nthread=-1,\n",
      "       objective='reg:linear', reg_alpha=0.1, reg_lambda=10.0,\n",
      "       scale_pos_weight=1, seed=0, silent=True, subsample=0.7)\n",
      "\n",
      "Turbine 4:\n",
      "Classifier: XGBClassifier(base_score=0.5, colsample_bylevel=0.9, colsample_bytree=0.5,\n",
      "       gamma=0, learning_rate=0.1, max_delta_step=0, max_depth=10,\n",
      "       min_child_weight=1, missing=nan, n_estimators=350, nthread=-1,\n",
      "       objective='binary:logistic', reg_alpha=1.0, reg_lambda=10.0,\n",
      "       scale_pos_weight=1, seed=0, silent=True, subsample=0.6)\n",
      "Regressor: XGBRegressor(base_score=0.5, colsample_bylevel=0.5, colsample_bytree=1.0,\n",
      "       gamma=0, learning_rate=0.1, max_delta_step=0, max_depth=8,\n",
      "       min_child_weight=1, missing=nan, n_estimators=500, nthread=-1,\n",
      "       objective='reg:linear', reg_alpha=0.1, reg_lambda=10.0,\n",
      "       scale_pos_weight=1, seed=0, silent=True, subsample=0.7)\n",
      "\n",
      "Turbine 5:\n",
      "Classifier: XGBClassifier(base_score=0.5, colsample_bylevel=0.9, colsample_bytree=0.4,\n",
      "       gamma=0, learning_rate=0.1, max_delta_step=0, max_depth=10,\n",
      "       min_child_weight=1, missing=nan, n_estimators=350, nthread=-1,\n",
      "       objective='binary:logistic', reg_alpha=1.0, reg_lambda=10.0,\n",
      "       scale_pos_weight=1, seed=0, silent=True, subsample=1.0)\n",
      "Regressor: XGBRegressor(base_score=0.5, colsample_bylevel=0.4, colsample_bytree=1.0,\n",
      "       gamma=0, learning_rate=0.1, max_delta_step=0, max_depth=10,\n",
      "       min_child_weight=1, missing=nan, n_estimators=500, nthread=-1,\n",
      "       objective='reg:linear', reg_alpha=0.1, reg_lambda=10.0,\n",
      "       scale_pos_weight=1, seed=0, silent=True, subsample=0.7)\n",
      "\n",
      "Turbine 6:\n",
      "Classifier: XGBClassifier(base_score=0.5, colsample_bylevel=0.9, colsample_bytree=0.8,\n",
      "       gamma=0, learning_rate=0.1, max_delta_step=0, max_depth=8,\n",
      "       min_child_weight=1, missing=nan, n_estimators=350, nthread=-1,\n",
      "       objective='binary:logistic', reg_alpha=1.0, reg_lambda=10.0,\n",
      "       scale_pos_weight=1, seed=0, silent=True, subsample=0.8)\n",
      "Regressor: XGBRegressor(base_score=0.5, colsample_bylevel=0.8, colsample_bytree=1.0,\n",
      "       gamma=0, learning_rate=0.1, max_delta_step=0, max_depth=10,\n",
      "       min_child_weight=1, missing=nan, n_estimators=500, nthread=-1,\n",
      "       objective='reg:linear', reg_alpha=0.1, reg_lambda=10.0,\n",
      "       scale_pos_weight=1, seed=0, silent=True, subsample=0.6)\n",
      "\n",
      "Turbine 7:\n",
      "Classifier: XGBClassifier(base_score=0.5, colsample_bylevel=0.9, colsample_bytree=1.0,\n",
      "       gamma=0, learning_rate=0.1, max_delta_step=0, max_depth=10,\n",
      "       min_child_weight=1, missing=nan, n_estimators=350, nthread=-1,\n",
      "       objective='binary:logistic', reg_alpha=1.0, reg_lambda=10.0,\n",
      "       scale_pos_weight=1, seed=0, silent=True, subsample=0.6)\n",
      "Regressor: XGBRegressor(base_score=0.5, colsample_bylevel=0.8, colsample_bytree=0.9,\n",
      "       gamma=0, learning_rate=0.1, max_delta_step=0, max_depth=10,\n",
      "       min_child_weight=1, missing=nan, n_estimators=500, nthread=-1,\n",
      "       objective='reg:linear', reg_alpha=0.1, reg_lambda=10.0,\n",
      "       scale_pos_weight=1, seed=0, silent=True, subsample=0.6)\n",
      "\n",
      "Turbine 8:\n",
      "Classifier: XGBClassifier(base_score=0.5, colsample_bylevel=0.9, colsample_bytree=1.0,\n",
      "       gamma=0, learning_rate=0.1, max_delta_step=0, max_depth=12,\n",
      "       min_child_weight=1, missing=nan, n_estimators=350, nthread=-1,\n",
      "       objective='binary:logistic', reg_alpha=1.0, reg_lambda=10.0,\n",
      "       scale_pos_weight=1, seed=0, silent=True, subsample=0.8)\n",
      "Regressor: XGBRegressor(base_score=0.5, colsample_bylevel=1.0, colsample_bytree=1.0,\n",
      "       gamma=0, learning_rate=0.1, max_delta_step=0, max_depth=10,\n",
      "       min_child_weight=1, missing=nan, n_estimators=500, nthread=-1,\n",
      "       objective='reg:linear', reg_alpha=0.1, reg_lambda=10.0,\n",
      "       scale_pos_weight=1, seed=0, silent=True, subsample=0.7)\n",
      "\n",
      "Turbine 9:\n",
      "Classifier: XGBClassifier(base_score=0.5, colsample_bylevel=0.9, colsample_bytree=0.6,\n",
      "       gamma=0, learning_rate=0.1, max_delta_step=0, max_depth=12,\n",
      "       min_child_weight=1, missing=nan, n_estimators=350, nthread=-1,\n",
      "       objective='binary:logistic', reg_alpha=1.0, reg_lambda=10.0,\n",
      "       scale_pos_weight=1, seed=0, silent=True, subsample=0.9)\n",
      "Regressor: XGBRegressor(base_score=0.5, colsample_bylevel=0.8, colsample_bytree=1.0,\n",
      "       gamma=0, learning_rate=0.1, max_delta_step=0, max_depth=10,\n",
      "       min_child_weight=1, missing=nan, n_estimators=500, nthread=-1,\n",
      "       objective='reg:linear', reg_alpha=0.1, reg_lambda=10.0,\n",
      "       scale_pos_weight=1, seed=0, silent=True, subsample=0.7)\n",
      "\n",
      "Turbine 10:\n",
      "Classifier: XGBClassifier(base_score=0.5, colsample_bylevel=1.0, colsample_bytree=0.8,\n",
      "       gamma=0, learning_rate=0.1, max_delta_step=0, max_depth=8,\n",
      "       min_child_weight=1, missing=nan, n_estimators=350, nthread=-1,\n",
      "       objective='binary:logistic', reg_alpha=1.0, reg_lambda=10.0,\n",
      "       scale_pos_weight=1, seed=0, silent=True, subsample=0.8)\n",
      "Regressor: XGBRegressor(base_score=0.5, colsample_bylevel=1.0, colsample_bytree=1.0,\n",
      "       gamma=0, learning_rate=0.1, max_delta_step=0, max_depth=10,\n",
      "       min_child_weight=1, missing=nan, n_estimators=500, nthread=-1,\n",
      "       objective='reg:linear', reg_alpha=0.1, reg_lambda=10.0,\n",
      "       scale_pos_weight=1, seed=0, silent=True, subsample=0.6)\n",
      "\n"
     ]
    }
   ],
   "source": [
    "'''\n",
    "Retrieve trained models from disk. We'll need both a regressor model and\n",
    "a classifier model.\n",
    "'''\n",
    "xgbc_found = True\n",
    "xgbr_found = True\n",
    "\n",
    "try:\n",
    "    xgbc_all\n",
    "except:\n",
    "#    fName = 'xgbc_2017_03_08_17_24_52'\n",
    "#    fName = 'xgbc_2017_03_11_01_57_56' # Rolling average over 3 measurements\n",
    "    fName = 'xgbc_2017_04_04_02_17_20' # rm=3, dups removed\n",
    "    path_to_file = 'fitted_models/'+fName+'.model'\n",
    "    try:\n",
    "        xgbc_all = joblib.load(path_to_file)\n",
    "    except:\n",
    "        print('Error loading classifier model from {0}\\n'.format(path_to_file))\n",
    "        xgbc_found = False\n",
    "    else:\n",
    "        print('Classifier model successfully loaded from {0}\\n'.format(path_to_file))\n",
    "else:\n",
    "    print('Classifier model already exists, not updated from file!\\n')\n",
    "\n",
    "try:\n",
    "    xgbr_all\n",
    "except:\n",
    "#    fName = 'xgb_2017_03_05_17_57_26'\n",
    "#    fName = 'xgbr_2017_03_10_22_09_58' # Rolling average over 3 measurements\n",
    "    fName = 'xgbr_2017_03_28_07_24_58' # rm=3, dups removed\n",
    "    path_to_file = 'fitted_models/'+fName+'.model'\n",
    "    try:\n",
    "        xgbr_all = joblib.load(path_to_file)\n",
    "    except:\n",
    "        print('Error loading regressor model from {0}\\n'.format(path_to_file))\n",
    "        xgbr_found = False\n",
    "    else:\n",
    "        print('Regressor model successfully loaded from {0}\\n'.format(path_to_file))\n",
    "else:\n",
    "    print('Regressor model already exists, not updated from file!\\n')\n",
    "\n",
    "if xgbc_found and xgbr_found:\n",
    "    for ind, (xgbc, xgbr) in enumerate(zip(xgbc_all, xgbr_all)):\n",
    "        print('Turbine {0}:\\nClassifier: {1}\\nRegressor: {2}\\n'.format(ind+1, xgbc, xgbr))\n",
    "elif xgbc_found:\n",
    "    for ind, xgbc in enumerate(xgbc_all):\n",
    "        print('Turbine {0}:\\nClassifier: {1}\\n'.format(ind+1, xgbc))\n",
    "elif xgbr_found:\n",
    "    for ind, xgbr in enumerate(xgbr_all):\n",
    "        print('Turbine {0}:\\nRegressor: {1}\\n'.format(ind+1, xgbr))"
   ]
  },
  {
   "cell_type": "markdown",
   "metadata": {},
   "source": [
    "<a id='Cell20'></a>"
   ]
  },
  {
   "cell_type": "code",
   "execution_count": 6,
   "metadata": {
    "scrolled": false
   },
   "outputs": [
    {
     "name": "stdout",
     "output_type": "stream",
     "text": [
      "\n",
      "Total number of observation times in test set:            2929\n",
      "Number of observation times in August and September 2013: 1464\n",
      "\n",
      "obs_id = ID_1\n",
      "obs_id = ID_2\n",
      "obs_id = ID_3\n",
      "obs_id = ID_4\n",
      "obs_id = ID_5\n",
      "obs_id = ID_6\n",
      "obs_id = ID_7\n",
      "obs_id = ID_8\n",
      "obs_id = ID_9\n",
      "obs_id = ID_10\n",
      "Output written to data/xgbrc_2017_04_04_11_37_56.out.csv\n"
     ]
    }
   ],
   "source": [
    "'''\n",
    "Prepare the test data set in the same way as the training set, make predictions, and create output csv file.\n",
    "'''\n",
    "\n",
    "# Load the testing data\n",
    "#TestingDataFile = \"data/Test_pp_2017_03_02_15_47_36.pkl\"\n",
    "#TestingDataFile = \"data/Test_pp_2017_03_10_15_38_00.pkl\" # With rolling average over 3 measurements\n",
    "TestingDataFile = \"data/Test_pp_2017_03_28_09_02_52.pkl\" # rm=3, dups removed\n",
    "df1             = pd.read_pickle(TestingDataFile)\n",
    "\n",
    "# Rename dataframe columns and make lists with the new predictor labels\n",
    "predictors  = [item[0]+'_'+str(item[1]) for item in df1.columns.values if item[0]!='ID']\n",
    "predictors  = [predictor if predictor[-1]!='_' else predictor[:-1] for predictor in predictors]\n",
    "ids         = [item[0]+'_'+str(item[1]) for item in df1.columns.values if item[0]=='ID']\n",
    "df1.columns = ids+predictors\n",
    "\n",
    "# Count how many sets of observations we have in August and September 2013\n",
    "nTotal      = len(df1)\n",
    "nAugSep2013 = len([DoY for DoY in df1['DAYOFYEAR'] if DoY>212 and DoY<274])\n",
    "print('\\nTotal number of observation times in test set:            {0}'.format(nTotal))\n",
    "print('Number of observation times in August and September 2013: {0}\\n'.format(nAugSep2013))\n",
    "\n",
    "# Compute predictions\n",
    "pos             = 1\n",
    "df1_ids         = []\n",
    "df1_predictions = []\n",
    "for ind, (xgbc, xgbr) in enumerate(zip(xgbc_all, xgbr_all)):\n",
    "    obs_id = 'ID_'+str(ind+1)\n",
    "    print('obs_id = {0}'.format(obs_id))\n",
    "    df1_ids.extend(df1[obs_id].tolist())\n",
    "    df1_regr = [min(max(x,0.0),1.0) for x in xgbr.predict(df1[predictors])]\n",
    "    df1_clas = xgbc.predict(df1[predictors])\n",
    "#    df1_predictions.extend([0 if (c==pos and r<0.05) else r for (r,c) in zip(df1_regr,df1_clas)])\n",
    "    if ind==3:\n",
    "        df1_predictions.extend([0 if c==pos else r for (r,c) in zip(df1_regr, df1_clas)])\n",
    "    else:\n",
    "        df1_predictions.extend([r if (c!=pos and r>0.0) else 0 for (r,c) in zip(df1_regr, df1_clas)])\n",
    "\n",
    "# Generate output csv file\n",
    "fName = 'xgbrc_' + strftime(\"%Y_%m_%d_%H_%M_%S\")\n",
    "fName_out = 'data/' + fName + '.out.csv'\n",
    "with open(fName_out, 'w') as csvfile:\n",
    "    writer = csv.writer(csvfile)\n",
    "    writer.writerow([\"ID\",\"TARGETVAR\"])\n",
    "    for idval,yval in zip(df1_ids, df1_predictions):\n",
    "        writer.writerow([idval,yval])\n",
    "print('Output written to {0}'.format(fName_out))"
   ]
  }
 ],
 "metadata": {
  "kernelspec": {
   "display_name": "Python 3",
   "language": "python",
   "name": "python3"
  },
  "language_info": {
   "codemirror_mode": {
    "name": "ipython",
    "version": 3
   },
   "file_extension": ".py",
   "mimetype": "text/x-python",
   "name": "python",
   "nbconvert_exporter": "python",
   "pygments_lexer": "ipython3",
   "version": "3.5.2"
  }
 },
 "nbformat": 4,
 "nbformat_minor": 1
}
